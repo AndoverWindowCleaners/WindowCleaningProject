{
  "nbformat": 4,
  "nbformat_minor": 0,
  "metadata": {
    "colab": {
      "name": "WindowRecognition.ipynb",
      "provenance": [],
      "collapsed_sections": [],
      "toc_visible": true
    },
    "kernelspec": {
      "name": "python3",
      "display_name": "Python 3"
    }
  },
  "cells": [
    {
      "cell_type": "markdown",
      "metadata": {
        "id": "9fUj-K8CRUUd"
      },
      "source": [
        "# Set up environment"
      ]
    },
    {
      "cell_type": "markdown",
      "metadata": {
        "id": "3MtB_wE5RfJV"
      },
      "source": [
        "**Import libraries**"
      ]
    },
    {
      "cell_type": "code",
      "metadata": {
        "id": "Vi5nR1RhRNw4"
      },
      "source": [
        "import tensorflow as tf\n",
        "import numpy as np\n",
        "import cv2\n",
        "import time"
      ],
      "execution_count": null,
      "outputs": []
    },
    {
      "cell_type": "markdown",
      "metadata": {
        "id": "0SSr7rbItEtm"
      },
      "source": [
        "Relevant functions from github file"
      ]
    },
    {
      "cell_type": "code",
      "metadata": {
        "id": "JkoCknbItEEK"
      },
      "source": [
        "def image_pooling(image, new_width, new_height, cvt_color):\n",
        "    img =  cv2.resize(image, (new_width, new_height), interpolation=cv2.INTER_AREA)\n",
        "    if cvt_color:\n",
        "        return cv2.cvtColor(img,cv2.COLOR_BGR2GRAY)\n",
        "    else:\n",
        "      return img\n",
        "\n",
        "def computeRollingVariance(square_sum, sum, num_elements):\n",
        "    return (square_sum/num_elements-(sum/num_elements)**2)"
      ],
      "execution_count": null,
      "outputs": []
    },
    {
      "cell_type": "markdown",
      "metadata": {
        "id": "TqRvK81-tQkB"
      },
      "source": [
        "Functions for datasets"
      ]
    },
    {
      "cell_type": "code",
      "metadata": {
        "id": "ndHuQSdSsaeF"
      },
      "source": [
        "def getVariances(video_path, frame_width=128, frame_height=128, target_frame_width=28, target_frame_height=28):\n",
        "    \"\"\"\n",
        "    video_path is the file path to the input video\n",
        "    Uses functions in the github\n",
        "\n",
        "    Returns:\n",
        "    (diff_variances, input_variances)\n",
        "    \"\"\"\n",
        "    num_frame = 5\n",
        "    cap = cv2.VideoCapture(video_path)\n",
        "    fps = cap.get(5)\n",
        "    total_frames = int(cap.get(7))-num_frame+1\n",
        "    print('Video loaded with', total_frames,'frames')\n",
        "\n",
        "    diff_variances = np.zeros((total_frames,target_frame_height,target_frame_width),dtype=np.float64)\n",
        "    input_variances = np.zeros((total_frames,target_frame_height,target_frame_width),dtype=np.float64)\n",
        "    #Constants below\n",
        "    input_frames = np.zeros((num_frame, frame_height, frame_width), dtype=np.float32)\n",
        "    derivative1 = np.zeros((2, frame_height, frame_width), dtype=np.float32)\n",
        "    cur_derivative2_corrected = np.zeros((frame_height, frame_width), dtype=np.float32)\n",
        "    differences = np.zeros((num_frame, frame_height, frame_width), dtype=np.float32)\n",
        "    start_frame = 0\n",
        "    rotation_frequency = 1\n",
        "    frequency_const = rotation_frequency*2*np.pi\n",
        "    difference_sum = np.sum(differences,axis=0)\n",
        "    difference_square_sum = np.sum(np.square(differences),axis=0)\n",
        "    input_sum = np.sum(input_frames,axis=0)\n",
        "    input_square_sum = np.sum(np.square(input_frames),axis=0)\n",
        "    frame_num=0\n",
        "    start_time = time.time()\n",
        "    delta_time = 1\n",
        "    started = False\n",
        "    # Next part loops through each frame in video\n",
        "    while True:\n",
        "        ret, frame = cap.read()\n",
        "        if ret:\n",
        "            input_sum -= input_frames[start_frame]\n",
        "            input_square_sum -= np.square(input_frames[start_frame])\n",
        "            difference_sum -= differences[start_frame-1]\n",
        "            difference_square_sum -= np.square(differences[start_frame-1])\n",
        "            # read in image\n",
        "            input_frames[start_frame] = image_pooling(\n",
        "                frame, frame_width, frame_height, True)/255\n",
        "\n",
        "            # compute first derivative\n",
        "            derivative1[start_frame % 2] = (input_frames[start_frame]-input_frames[(start_frame-1)])/delta_time\n",
        "\n",
        "            # compute second derivative and correct its coefficient\n",
        "            cur_derivative2_corrected = (derivative1[start_frame % 2]-derivative1[(start_frame-1) % 2])/delta_time\n",
        "            cur_derivative2_corrected /= frequency_const**2\n",
        "\n",
        "            # compute difference between image and its second derivative. It's actually a +\n",
        "            # because of the negative sign from differentiation\n",
        "            differences[start_frame-1] = cur_derivative2_corrected + \\\n",
        "                input_frames[(start_frame-1)]\n",
        "\n",
        "            # add in new variance of the newly read in image and newly computed difference\n",
        "            input_sum += input_frames[start_frame]\n",
        "            input_square_sum += input_frames[start_frame]**2\n",
        "            difference_sum += differences[start_frame-1]\n",
        "            difference_square_sum += differences[start_frame-1]**2\n",
        "\n",
        "            # recompute variances\n",
        "            input_variance = computeRollingVariance(input_square_sum,input_sum,num_frame)\n",
        "            variances = computeRollingVariance(difference_square_sum,difference_sum,num_frame)\n",
        "            # note this is only an estimation of variance, not the actual variance, which may be difficult\n",
        "            # to evaluate on a rolling basis\n",
        "\n",
        "            # scale down variance to ensure connectiveness\n",
        "            diff_variances[frame_num] = image_pooling(\n",
        "                variances, target_frame_width, target_frame_height, False)\n",
        "            input_variances[frame_num] = image_pooling(\n",
        "                input_variance, target_frame_width, target_frame_height, False)\n",
        "            start_frame = (start_frame+1) % num_frame\n",
        "        else:\n",
        "            break\n",
        "        if start_frame == 0 :\n",
        "            started = True\n",
        "        if started :\n",
        "            frame_num += 1\n",
        "        delta_time = time.time()-start_time\n",
        "        start_time = time.time()\n",
        "    cap.release()\n",
        "    return diff_variances, input_variances"
      ],
      "execution_count": null,
      "outputs": []
    },
    {
      "cell_type": "code",
      "metadata": {
        "id": "d0yZoO9XJFnt"
      },
      "source": [
        "def variancesToDataset(diff_variance,input_variance,window_location, batch_size=16):\n",
        "    \"\"\"\n",
        "    diff_variance and input_variance are three dimensional numpy arrays, with third dimension being frame number\n",
        "    Before inputting into this function, stack every frame from all images to diff_variance and input_variance\n",
        "    window_location is binary for whether or not there is a window at a pixel in a certain frame\n",
        "\n",
        "    Returns:\n",
        "    Dataset\n",
        "    \"\"\"\n",
        "    features = np.transpose(np.array((diff_variance.flatten(),input_variance.flatten())))\n",
        "    data = (features,window_location.flatten())\n",
        "    ds = tf.data.Dataset.from_tensor_slices(data)\n",
        "    return ds.batch(batch_size).prefetch(1)"
      ],
      "execution_count": null,
      "outputs": []
    },
    {
      "cell_type": "code",
      "metadata": {
        "id": "WebR5JGWIzih"
      },
      "source": [
        "def get2D(diff_variances, input_variances):\n",
        "    \"\"\"\n",
        "    diff_variance and input_variance are three dimensional numpy arrays, with third dimension being frame number\n",
        "    Before inputting into this function, stack every frame from all images to diff_variance and input_variance\n",
        "    \n",
        "    Returns:\n",
        "    2d numpy array with [variance, variance] as each row\n",
        "    \"\"\"\n",
        "    return np.transpose(np.array((diff_variances.flatten(),input_variances.flatten())))"
      ],
      "execution_count": null,
      "outputs": []
    },
    {
      "cell_type": "markdown",
      "metadata": {
        "id": "pIM2ofq5JJbL"
      },
      "source": [
        "# Preprocess Data"
      ]
    },
    {
      "cell_type": "code",
      "metadata": {
        "id": "gDz1qKrtSxXl",
        "colab": {
          "base_uri": "https://localhost:8080/",
          "height": 393
        },
        "outputId": "07a77a06-01c6-4889-f550-963be6fbef37"
      },
      "source": [
        "diff, input = getVariances('Clock_Face_2Videvo.mov')"
      ],
      "execution_count": null,
      "outputs": [
        {
          "output_type": "stream",
          "text": [
            "Video loaded with -4 frames\n"
          ],
          "name": "stdout"
        },
        {
          "output_type": "error",
          "ename": "ValueError",
          "evalue": "ignored",
          "traceback": [
            "\u001b[0;31m---------------------------------------------------------------------------\u001b[0m",
            "\u001b[0;31mValueError\u001b[0m                                Traceback (most recent call last)",
            "\u001b[0;32m<ipython-input-20-b67116f39060>\u001b[0m in \u001b[0;36m<module>\u001b[0;34m()\u001b[0m\n\u001b[0;32m----> 1\u001b[0;31m \u001b[0mdiff\u001b[0m\u001b[0;34m,\u001b[0m \u001b[0minput\u001b[0m \u001b[0;34m=\u001b[0m \u001b[0mgetVariances\u001b[0m\u001b[0;34m(\u001b[0m\u001b[0;34m'Clock_Face_2Videvo.mov'\u001b[0m\u001b[0;34m)\u001b[0m\u001b[0;34m\u001b[0m\u001b[0;34m\u001b[0m\u001b[0m\n\u001b[0m",
            "\u001b[0;32m<ipython-input-17-4f9622621b4f>\u001b[0m in \u001b[0;36mgetVariances\u001b[0;34m(video_path, frame_width, frame_height, target_frame_width, target_frame_height)\u001b[0m\n\u001b[1;32m     13\u001b[0m     \u001b[0mprint\u001b[0m\u001b[0;34m(\u001b[0m\u001b[0;34m'Video loaded with'\u001b[0m\u001b[0;34m,\u001b[0m \u001b[0mtotal_frames\u001b[0m\u001b[0;34m,\u001b[0m\u001b[0;34m'frames'\u001b[0m\u001b[0;34m)\u001b[0m\u001b[0;34m\u001b[0m\u001b[0;34m\u001b[0m\u001b[0m\n\u001b[1;32m     14\u001b[0m \u001b[0;34m\u001b[0m\u001b[0m\n\u001b[0;32m---> 15\u001b[0;31m     \u001b[0mdiff_variances\u001b[0m \u001b[0;34m=\u001b[0m \u001b[0mnp\u001b[0m\u001b[0;34m.\u001b[0m\u001b[0mzeros\u001b[0m\u001b[0;34m(\u001b[0m\u001b[0;34m(\u001b[0m\u001b[0mtotal_frames\u001b[0m\u001b[0;34m,\u001b[0m\u001b[0mtarget_frame_height\u001b[0m\u001b[0;34m,\u001b[0m\u001b[0mtarget_frame_width\u001b[0m\u001b[0;34m)\u001b[0m\u001b[0;34m,\u001b[0m\u001b[0mdtype\u001b[0m\u001b[0;34m=\u001b[0m\u001b[0mnp\u001b[0m\u001b[0;34m.\u001b[0m\u001b[0mfloat64\u001b[0m\u001b[0;34m)\u001b[0m\u001b[0;34m\u001b[0m\u001b[0;34m\u001b[0m\u001b[0m\n\u001b[0m\u001b[1;32m     16\u001b[0m     \u001b[0minput_variances\u001b[0m \u001b[0;34m=\u001b[0m \u001b[0mnp\u001b[0m\u001b[0;34m.\u001b[0m\u001b[0mzeros\u001b[0m\u001b[0;34m(\u001b[0m\u001b[0;34m(\u001b[0m\u001b[0mtotal_frames\u001b[0m\u001b[0;34m,\u001b[0m\u001b[0mtarget_frame_height\u001b[0m\u001b[0;34m,\u001b[0m\u001b[0mtarget_frame_width\u001b[0m\u001b[0;34m)\u001b[0m\u001b[0;34m,\u001b[0m\u001b[0mdtype\u001b[0m\u001b[0;34m=\u001b[0m\u001b[0mnp\u001b[0m\u001b[0;34m.\u001b[0m\u001b[0mfloat64\u001b[0m\u001b[0;34m)\u001b[0m\u001b[0;34m\u001b[0m\u001b[0;34m\u001b[0m\u001b[0m\n\u001b[1;32m     17\u001b[0m     \u001b[0;31m#Constants below\u001b[0m\u001b[0;34m\u001b[0m\u001b[0;34m\u001b[0m\u001b[0;34m\u001b[0m\u001b[0m\n",
            "\u001b[0;31mValueError\u001b[0m: negative dimensions are not allowed"
          ]
        }
      ]
    },
    {
      "cell_type": "code",
      "metadata": {
        "id": "alOQZx0Ia-RY",
        "colab": {
          "base_uri": "https://localhost:8080/",
          "height": 1000
        },
        "outputId": "2cfa3398-7d7e-4076-d189-f610d758da76"
      },
      "source": [
        "input"
      ],
      "execution_count": null,
      "outputs": [
        {
          "output_type": "execute_result",
          "data": {
            "text/plain": [
              "array([[[2.31585000e-06, 1.44413207e-06, 2.30170554e-06, ...,\n",
              "         9.33068804e-07, 1.21950870e-06, 1.60699710e-06],\n",
              "        [5.89294359e-07, 1.29319960e-06, 1.63790537e-06, ...,\n",
              "         1.49413245e-06, 1.55856833e-06, 1.37591269e-06],\n",
              "        [1.01700425e-06, 1.66683458e-06, 9.30274837e-07, ...,\n",
              "         2.32581806e-06, 1.60248601e-06, 2.52178870e-06],\n",
              "        ...,\n",
              "        [2.36227061e-06, 1.43678335e-06, 2.25746226e-06, ...,\n",
              "         7.90052582e-07, 2.64844857e-07, 9.46107320e-07],\n",
              "        [1.10489782e-06, 1.36080598e-06, 2.73459773e-06, ...,\n",
              "         2.89292075e-07, 1.11537520e-06, 1.71031570e-06],\n",
              "        [2.08011625e-06, 1.66519749e-06, 2.20309630e-06, ...,\n",
              "         5.65545633e-07, 5.25440555e-07, 1.80193456e-06]],\n",
              "\n",
              "       [[1.55158341e-06, 1.40897464e-06, 1.91468280e-06, ...,\n",
              "         1.02986814e-06, 1.19727338e-06, 1.60129275e-06],\n",
              "        [4.93018888e-07, 1.18173193e-06, 1.51229324e-06, ...,\n",
              "         1.22172059e-06, 1.72748696e-06, 1.26875238e-06],\n",
              "        [7.78236426e-07, 1.31945126e-06, 8.71834345e-07, ...,\n",
              "         2.24781979e-06, 1.70768180e-06, 1.91529398e-06],\n",
              "        ...,\n",
              "        [1.82539952e-06, 1.59558840e-06, 1.97385998e-06, ...,\n",
              "         7.96164386e-07, 2.56288331e-07, 9.66887455e-07],\n",
              "        [8.00529961e-07, 1.02769809e-06, 2.56186468e-06, ...,\n",
              "         2.83180270e-07, 1.02340709e-06, 1.65234087e-06],\n",
              "        [2.07991252e-06, 1.33066533e-06, 2.23827556e-06, ...,\n",
              "         4.45754267e-07, 5.27768862e-07, 1.89739512e-06]],\n",
              "\n",
              "       [[1.47381797e-07, 1.05542131e-06, 8.06350727e-07, ...,\n",
              "         8.35512765e-07, 1.00373290e-06, 1.63103687e-06],\n",
              "        [5.14730345e-07, 1.10792462e-06, 1.18184835e-06, ...,\n",
              "         1.46945240e-06, 1.41578494e-06, 1.08906534e-06],\n",
              "        [6.42554369e-07, 9.38714948e-07, 7.24103302e-07, ...,\n",
              "         2.01322837e-06, 1.84193777e-06, 1.96459587e-06],\n",
              "        ...,\n",
              "        [1.27954991e-06, 6.72669557e-07, 1.82413169e-06, ...,\n",
              "         7.59086106e-07, 2.80735549e-07, 8.73988029e-07],\n",
              "        [5.01866452e-07, 8.75037586e-07, 2.63420588e-06, ...,\n",
              "         2.13913154e-07, 5.57280146e-07, 9.49075911e-07],\n",
              "        [1.81664655e-06, 1.04080573e-06, 2.18635796e-06, ...,\n",
              "         5.78584149e-07, 6.12519216e-07, 2.12067971e-06]],\n",
              "\n",
              "       ...,\n",
              "\n",
              "       [[1.26595842e-06, 1.17160380e-06, 1.29803084e-06, ...,\n",
              "         3.40817496e-06, 3.23628774e-06, 2.60066008e-06],\n",
              "        [9.63336788e-08, 6.24801032e-07, 7.26198778e-07, ...,\n",
              "         2.96143116e-06, 2.08860729e-06, 1.82806980e-06],\n",
              "        [9.43895429e-07, 1.02462946e-06, 1.58441253e-07, ...,\n",
              "         2.52850259e-06, 2.03866512e-06, 2.84786802e-06],\n",
              "        ...,\n",
              "        [9.61255864e-07, 1.94600034e-06, 1.60736818e-06, ...,\n",
              "         1.51857967e-06, 1.91916479e-06, 2.49803998e-06],\n",
              "        [2.04250682e-07, 1.22461461e-06, 7.22857294e-07, ...,\n",
              "         1.96369365e-06, 2.58302316e-06, 2.10903818e-06],\n",
              "        [1.61052594e-06, 1.40950215e-06, 1.53342080e-06, ...,\n",
              "         9.79518518e-07, 1.08312815e-06, 3.01259570e-06]],\n",
              "\n",
              "       [[1.29814725e-06, 1.48738036e-06, 1.21246558e-06, ...,\n",
              "         3.36091034e-06, 3.57528916e-06, 2.02900264e-06],\n",
              "        [1.02038030e-07, 4.78932634e-07, 6.69155270e-07, ...,\n",
              "         2.94391066e-06, 2.13953899e-06, 1.83377415e-06],\n",
              "        [7.95989763e-07, 8.22939910e-07, 2.09780410e-07, ...,\n",
              "         2.72970829e-06, 1.98498310e-06, 2.13645399e-06],\n",
              "        ...,\n",
              "        [8.86488124e-07, 2.02053889e-06, 1.66717291e-06, ...,\n",
              "         1.50548294e-06, 2.09646532e-06, 2.45601404e-06],\n",
              "        [3.83937731e-07, 1.08349559e-06, 6.04066372e-07, ...,\n",
              "         1.91276195e-06, 2.61107925e-06, 2.86614522e-06],\n",
              "        [1.66988684e-06, 1.35346454e-06, 1.64301855e-06, ...,\n",
              "         1.14005525e-06, 1.08638778e-06, 3.39030521e-06]],\n",
              "\n",
              "       [[1.27492240e-06, 1.35618029e-06, 1.38848554e-06, ...,\n",
              "         3.27394810e-06, 3.80794518e-06, 2.34029721e-06],\n",
              "        [1.02038030e-07, 4.45521437e-07, 8.26839823e-07, ...,\n",
              "         3.23867425e-06, 2.33366154e-06, 1.89145794e-06],\n",
              "        [7.98841938e-07, 5.84695954e-07, 1.34692527e-07, ...,\n",
              "         2.60815614e-06, 1.86392572e-06, 2.25010444e-06],\n",
              "        ...,\n",
              "        [9.01818566e-07, 2.11280167e-06, 1.53613291e-06, ...,\n",
              "         1.69134000e-06, 2.35694461e-06, 2.37656059e-06],\n",
              "        [3.67232133e-07, 1.22271740e-06, 9.14273187e-07, ...,\n",
              "         1.94128370e-06, 2.90974276e-06, 2.92726327e-06],\n",
              "        [1.82394251e-06, 1.45649938e-06, 1.42231329e-06, ...,\n",
              "         1.36008020e-06, 1.08923996e-06, 3.06963921e-06]]])"
            ]
          },
          "metadata": {
            "tags": []
          },
          "execution_count": 47
        }
      ]
    },
    {
      "cell_type": "code",
      "metadata": {
        "id": "4uP7g_3q70XI",
        "colab": {
          "base_uri": "https://localhost:8080/",
          "height": 136
        },
        "outputId": "8bbcca6d-edda-4ad3-a82c-405f93781c24"
      },
      "source": [
        "a = np.ones((180,28,28)) # 6 seconds at 30fps, 28x28 pixels\n",
        "a[0][0][2] = 5\n",
        "b = 2*np.ones((80,28,128))\n",
        "c = np.zeros((80,28,28)).flatten()\n",
        "features = get2D(diff,input)\n",
        "features"
      ],
      "execution_count": null,
      "outputs": [
        {
          "output_type": "execute_result",
          "data": {
            "text/plain": [
              "array([[7.93635693e+03, 1.50596619e-01],\n",
              "       [8.46031250e+03, 9.23194885e-02],\n",
              "       [8.52368848e+03, 1.49574280e-01],\n",
              "       ...,\n",
              "       [0.00000000e+00, 0.00000000e+00],\n",
              "       [0.00000000e+00, 0.00000000e+00],\n",
              "       [0.00000000e+00, 0.00000000e+00]])"
            ]
          },
          "metadata": {
            "tags": []
          },
          "execution_count": 18
        }
      ]
    },
    {
      "cell_type": "code",
      "metadata": {
        "id": "JsI1S9MejPW6",
        "colab": {
          "base_uri": "https://localhost:8080/",
          "height": 34
        },
        "outputId": "61b9b66e-3915-45e2-f3e3-9f2f4533346c"
      },
      "source": [
        "ds = variancesToDataset(diff, input, np.zeros((219,28,28)))\n",
        "ds"
      ],
      "execution_count": null,
      "outputs": [
        {
          "output_type": "execute_result",
          "data": {
            "text/plain": [
              "<PrefetchDataset shapes: ((None, 2), (None,)), types: (tf.float64, tf.float64)>"
            ]
          },
          "metadata": {
            "tags": []
          },
          "execution_count": 74
        }
      ]
    },
    {
      "cell_type": "markdown",
      "metadata": {
        "id": "REqzcrB-UK4W"
      },
      "source": [
        "# Create model"
      ]
    },
    {
      "cell_type": "code",
      "metadata": {
        "id": "axITT_gsYN-b"
      },
      "source": [
        "EPOCHS = 2\n",
        "BATCH_SIZE = 512"
      ],
      "execution_count": null,
      "outputs": []
    },
    {
      "cell_type": "code",
      "metadata": {
        "id": "az5JZK3kEeUY"
      },
      "source": [
        "model = tf.keras.models.Sequential([\n",
        "    #tf.keras.layers.Dense(2, activation='relu', input_shape=(2,)),\n",
        "    tf.keras.layers.Dense(1, activation='sigmoid',input_shape=(2,))\n",
        "])\n",
        "\n",
        "model.compile(optimizer='adam',loss=tf.keras.losses.BinaryCrossentropy(from_logits=True),metrics=[\"accuracy\"])"
      ],
      "execution_count": null,
      "outputs": []
    },
    {
      "cell_type": "code",
      "metadata": {
        "id": "LiOyhO5WGBcA",
        "colab": {
          "base_uri": "https://localhost:8080/",
          "height": 187
        },
        "outputId": "051a7a68-7f54-4b72-9ce6-aa2faca894dc"
      },
      "source": [
        "model.summary()"
      ],
      "execution_count": null,
      "outputs": [
        {
          "output_type": "stream",
          "text": [
            "Model: \"sequential_3\"\n",
            "_________________________________________________________________\n",
            "Layer (type)                 Output Shape              Param #   \n",
            "=================================================================\n",
            "dense_3 (Dense)              (None, 1)                 3         \n",
            "=================================================================\n",
            "Total params: 3\n",
            "Trainable params: 3\n",
            "Non-trainable params: 0\n",
            "_________________________________________________________________\n"
          ],
          "name": "stdout"
        }
      ]
    },
    {
      "cell_type": "code",
      "metadata": {
        "id": "WsgT17HtGHVH",
        "colab": {
          "base_uri": "https://localhost:8080/",
          "height": 219
        },
        "outputId": "f663b283-9228-4e85-9954-ee6a37d835eb"
      },
      "source": [
        "model.fit(features,c,batch_size=BATCH_SIZE, epochs=EPOCHS, validation_split=0.2)"
      ],
      "execution_count": null,
      "outputs": [
        {
          "output_type": "error",
          "ename": "NameError",
          "evalue": "ignored",
          "traceback": [
            "\u001b[0;31m---------------------------------------------------------------------------\u001b[0m",
            "\u001b[0;31mNameError\u001b[0m                                 Traceback (most recent call last)",
            "\u001b[0;32m<ipython-input-14-85bf2ec05423>\u001b[0m in \u001b[0;36m<module>\u001b[0;34m()\u001b[0m\n\u001b[0;32m----> 1\u001b[0;31m \u001b[0mmodel\u001b[0m\u001b[0;34m.\u001b[0m\u001b[0mfit\u001b[0m\u001b[0;34m(\u001b[0m\u001b[0mfeatures\u001b[0m\u001b[0;34m,\u001b[0m\u001b[0mc\u001b[0m\u001b[0;34m,\u001b[0m\u001b[0mbatch_size\u001b[0m\u001b[0;34m=\u001b[0m\u001b[0mBATCH_SIZE\u001b[0m\u001b[0;34m,\u001b[0m \u001b[0mepochs\u001b[0m\u001b[0;34m=\u001b[0m\u001b[0mEPOCHS\u001b[0m\u001b[0;34m,\u001b[0m \u001b[0mvalidation_split\u001b[0m\u001b[0;34m=\u001b[0m\u001b[0;36m0.2\u001b[0m\u001b[0;34m)\u001b[0m\u001b[0;34m\u001b[0m\u001b[0;34m\u001b[0m\u001b[0m\n\u001b[0m",
            "\u001b[0;31mNameError\u001b[0m: name 'model' is not defined"
          ]
        }
      ]
    },
    {
      "cell_type": "code",
      "metadata": {
        "id": "ATpiXIQFUJRN"
      },
      "source": [
        "model.layers[0].get_weights()"
      ],
      "execution_count": null,
      "outputs": []
    }
  ]
}