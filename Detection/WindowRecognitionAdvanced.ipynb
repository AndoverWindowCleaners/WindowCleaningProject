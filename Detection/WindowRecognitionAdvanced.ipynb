{
 "metadata": {
  "language_info": {
   "codemirror_mode": {
    "name": "ipython",
    "version": 3
   },
   "file_extension": ".py",
   "mimetype": "text/x-python",
   "name": "python",
   "nbconvert_exporter": "python",
   "pygments_lexer": "ipython3",
   "version": "3.9.5"
  },
  "orig_nbformat": 4,
  "kernelspec": {
   "name": "python3",
   "display_name": "Python 3.9.2 64-bit ('ml-venv': venv)"
  },
  "interpreter": {
   "hash": "8ff9e8e931b66f4c7be3d2edde67df216725044c66dc3d67e2eaf40d3695ff74"
  }
 },
 "nbformat": 4,
 "nbformat_minor": 2,
 "cells": [
  {
   "cell_type": "code",
   "execution_count": 19,
   "source": [
    "import tensorflow as tf\n",
    "from tensorflow.keras import layers,optimizers,losses\n",
    "from tensorflow.keras import Sequential,Model,Input\n",
    "from tensorflow.data import Dataset\n",
    "from tensorflow.keras import callbacks\n",
    "import numpy as np\n",
    "import matplotlib.pyplot as plt\n",
    "import cv2\n",
    "import copy\n",
    "import time"
   ],
   "outputs": [],
   "metadata": {}
  },
  {
   "cell_type": "code",
   "execution_count": 2,
   "source": [
    "def image_pooling(image, new_width, new_height):\n",
    "    return cv2.resize(image, (new_height, new_width), interpolation=cv2.INTER_AREA)\n",
    "\n",
    "def computeRollingVarianceSum(mean, prev_mean, cur, last):\n",
    "    return  (cur - prev_mean) * (cur - mean) - (last - prev_mean) * (last - mean)\n",
    "\n",
    "def swapPositions(li, pos1, pos2):\n",
    "    li[pos1],li[pos2] = li[pos2],li[pos1]\n",
    "    return li\n",
    "def push_down(li):\n",
    "    for i in range(len(li)-1):\n",
    "        swapPositions(li, i, i+1)\n",
    "     #list[-1] is untouched\n",
    "    return li"
   ],
   "outputs": [],
   "metadata": {}
  },
  {
   "cell_type": "code",
   "execution_count": 3,
   "source": [
    "def getVariances(video_path, frame_width=128, frame_height=128, target_frame_width=28, target_frame_height=28):\n",
    "    \"\"\"\n",
    "    video_path is the file path to the input video\n",
    "    Uses functions in the github\n",
    "\n",
    "    Returns:\n",
    "    (diff_variances, input_variances)\n",
    "    \"\"\"\n",
    "\n",
    "    rotation_frequency = 150  # enter in revolution per second\n",
    "\n",
    "    # say the input frames are periodic and can be described by a*sin(bx+c)+d\n",
    "    # its derivative is a*b*cos(bx+c)\n",
    "    # its second derivative is -a*b*b*sin(bx+c)\n",
    "    # so f(x)-f'(x-pi/(2*b))/b should be constant so should f(x)+f\"(x)/b/b\n",
    "    # the second is much better because the first involves a phase shift which\n",
    "    # requires access to data taken pi/(2*b) ago and will thus lower the processing\n",
    "    # speed or accuracy.\n",
    "    # the key is to know b, which is equal to frequency*2pi\n",
    "    frequency_const = rotation_frequency*2*np.pi\n",
    "\n",
    "    num_frame = 5\n",
    "\n",
    "    cap = cv2.VideoCapture(video_path)\n",
    "    fps = cap.get(5)\n",
    "    total_frames = int(cap.get(7))-num_frame+1\n",
    "    print('Video loaded with', total_frames,'frames')\n",
    "\n",
    "    input_frame = [np.zeros((target_frame_width,target_frame_height,3),dtype=np.float32) for i in range(num_frame+1)]\n",
    "    input_mean = np.zeros((target_frame_width,target_frame_height,3),dtype=np.float32)\n",
    "    input_var_sum = np.zeros((target_frame_width,target_frame_height,3),dtype=np.float32)\n",
    "\n",
    "    derivative1 = [np.zeros((target_frame_width,target_frame_height,3),dtype=np.float32) for i in range(num_frame)]\n",
    "    derivative2 = [np.zeros((target_frame_width,target_frame_height,3),dtype=np.float32) for i in range(num_frame-1)]\n",
    "\n",
    "    diff = [np.zeros((target_frame_width,target_frame_height,3),dtype=np.float32) for i in range(num_frame-1)]\n",
    "    diff_mean = np.zeros((target_frame_width,target_frame_height,3),dtype=np.float32)\n",
    "    diff_var_sum = np.zeros((target_frame_width,target_frame_height,3),dtype=np.float32)\n",
    "\n",
    "    input_vars = np.zeros((int(cap.get(7)),target_frame_width,target_frame_height,3),dtype=np.float32)\n",
    "    diff_vars = np.zeros((int(cap.get(7)),target_frame_width,target_frame_height,3),dtype=np.float32)\n",
    "    \n",
    "    orig_video = np.zeros((int(cap.get(7)),target_frame_width,target_frame_height,3),dtype=np.float32)\n",
    "    deltaTime = 1.0/fps\n",
    "    for i in range(int(cap.get(7))):\n",
    "        ret, frame = cap.read()\n",
    "        assert ret\n",
    "        prev_input_mean = copy.deepcopy(input_mean)\n",
    "        prev_diff_mean = copy.deepcopy(diff_mean)\n",
    "\n",
    "        input_frame = push_down(input_frame)\n",
    "        frame = cv2.cvtColor(frame,cv2.COLOR_BGR2RGB)\n",
    "        frame = image_pooling(frame, target_frame_width, target_frame_height)\n",
    "        orig_video[i] = frame\n",
    "        del_input_frame = copy.deepcopy(input_frame[-1])\n",
    "        input_frame[-1]=frame\n",
    "        input_mean = (input_mean*(num_frame+1) + frame - del_input_frame)/(num_frame+1)\n",
    "        # 1 2 3 3 4 6\n",
    "        #  1 2 3 4 5\n",
    "        #   3 4 5 6\n",
    "        derivative1 = push_down(derivative1)\n",
    "        derivative1[-1]=(input_frame[-1]-input_frame[-2])/deltaTime\n",
    "        derivative2 = push_down(derivative2)\n",
    "        derivative2[-1]=(derivative1[-1]-derivative1[-2])/deltaTime\n",
    "\n",
    "        diff = push_down(diff)\n",
    "        del_diff = copy.deepcopy(diff[-1])\n",
    "        diff[-1] = input_frame[-2]+derivative2[-1]/(frequency_const**2)\n",
    "        diff_mean = (diff_mean*(num_frame-1) + diff[-1] - del_diff)/(num_frame-1)\n",
    "\n",
    "\n",
    "        input_var_sum += computeRollingVarianceSum(input_mean, prev_input_mean, input_frame[-1], del_input_frame)\n",
    "\n",
    "        diff_var_sum += computeRollingVarianceSum(diff_mean, prev_diff_mean, diff[-1], del_diff)\n",
    "\n",
    "        input_var_sum2 = np.var(np.asarray(input_frame), axis=0)\n",
    "        diff_var_sum2 = np.var(np.asarray(diff), axis=0)\n",
    "\n",
    "        input_vars[i] = input_var_sum/(num_frame+1)\n",
    "        diff_vars[i] = diff_var_sum/(num_frame-1)\n",
    "    return diff_vars, input_vars, orig_video\n",
    "\n"
   ],
   "outputs": [],
   "metadata": {}
  },
  {
   "cell_type": "code",
   "execution_count": 100,
   "source": [
    "diff1, input1, orig_video1 = getVariances('outdoor_window.avi')\n",
    "positive_data = (np.concatenate([input1,diff1],axis=-1), orig_video1)\n",
    "\n",
    "diff3, input3, orig_video3 = getVariances('indoor_window.mov')\n",
    "positive_data2 = (np.concatenate([input3,diff3],axis=-1), orig_video3)"
   ],
   "outputs": [
    {
     "output_type": "stream",
     "name": "stdout",
     "text": [
      "Video loaded with 873 frames\n",
      "Video loaded with 802 frames\n"
     ]
    }
   ],
   "metadata": {}
  },
  {
   "cell_type": "code",
   "execution_count": 101,
   "source": [
    "positive_data = (np.concatenate([positive_data[0],positive_data2[0]],axis=0),np.concatenate([positive_data[1],positive_data2[1]],axis=0))"
   ],
   "outputs": [],
   "metadata": {}
  },
  {
   "cell_type": "code",
   "execution_count": 102,
   "source": [
    "diff2, input2, orig_video2 = getVariances('indoor.avi')\n",
    "negative_data = (np.concatenate([input2,diff2],axis=-1), orig_video2)"
   ],
   "outputs": [
    {
     "output_type": "stream",
     "name": "stdout",
     "text": [
      "Video loaded with 897 frames\n"
     ]
    }
   ],
   "metadata": {}
  },
  {
   "cell_type": "code",
   "execution_count": 103,
   "source": [
    "positive_data = (positive_data[0][6:],positive_data[1][6:])\n",
    "negative_data = (negative_data[0][6:],negative_data[1][6:])"
   ],
   "outputs": [],
   "metadata": {}
  },
  {
   "cell_type": "code",
   "execution_count": 104,
   "source": [
    "data = (np.concatenate([positive_data[0],negative_data[0]],axis=0),np.concatenate([positive_data[1],negative_data[1]],axis=0))\n",
    "results = np.concatenate([np.ones((positive_data[0].shape[0],28,28,1)),np.zeros((negative_data[0].shape[0],28,28,1))],axis=0)\n",
    "permute = np.random.permutation(data[0].shape[0])\n",
    "data = (data[0][permute],data[1][permute])\n",
    "results = results[permute]"
   ],
   "outputs": [],
   "metadata": {}
  },
  {
   "cell_type": "code",
   "execution_count": 105,
   "source": [
    "windowCNN = Sequential([\n",
    "    layers.Conv2D(16,(9,9),padding='same',activation='relu'),\n",
    "    layers.Conv2D(32,(6,6),padding='same',activation='relu'),\n",
    "    layers.Conv2D(32,(3,3),padding='same',activation='relu'),\n",
    "    layers.Conv2D(32,(1,1),activation='relu')\n",
    "])"
   ],
   "outputs": [],
   "metadata": {}
  },
  {
   "cell_type": "code",
   "execution_count": 106,
   "source": [
    "varianceCNN = Sequential([\n",
    "    layers.Conv2D(16,(1,1),activation='relu'),\n",
    "    layers.Conv2D(32,(1,1),activation='relu'),\n",
    "])"
   ],
   "outputs": [],
   "metadata": {}
  },
  {
   "cell_type": "code",
   "execution_count": 107,
   "source": [
    "toplevelCNN = Sequential([\n",
    "    layers.Conv2D(64,(1,1),activation='relu'),\n",
    "    layers.Conv2D(16,(1,1),activation='relu'),\n",
    "    layers.Conv2D(1,(1,1),activation='sigmoid')\n",
    "])"
   ],
   "outputs": [],
   "metadata": {}
  },
  {
   "cell_type": "code",
   "execution_count": 108,
   "source": [
    "input_img = Input(shape=(None,None,3))\n",
    "input_var = Input(shape=(None,None,6))\n",
    "img_feature = windowCNN(input_img)\n",
    "var_feature = varianceCNN(input_var)\n",
    "total_feature = layers.concatenate([img_feature,var_feature])\n",
    "total_feature = toplevelCNN(total_feature)\n",
    "totalModel = Model(inputs=[input_var,input_img],outputs=[total_feature])"
   ],
   "outputs": [],
   "metadata": {}
  },
  {
   "cell_type": "code",
   "execution_count": 109,
   "source": [
    "totalModel.summary()"
   ],
   "outputs": [
    {
     "output_type": "stream",
     "name": "stdout",
     "text": [
      "Model: \"model_6\"\n",
      "__________________________________________________________________________________________________\n",
      "Layer (type)                    Output Shape         Param #     Connected to                     \n",
      "==================================================================================================\n",
      "input_13 (InputLayer)           [(None, None, None,  0                                            \n",
      "__________________________________________________________________________________________________\n",
      "input_14 (InputLayer)           [(None, None, None,  0                                            \n",
      "__________________________________________________________________________________________________\n",
      "sequential_12 (Sequential)      (None, None, None, 3 32672       input_13[0][0]                   \n",
      "__________________________________________________________________________________________________\n",
      "sequential_13 (Sequential)      (None, None, None, 3 656         input_14[0][0]                   \n",
      "__________________________________________________________________________________________________\n",
      "concatenate_6 (Concatenate)     (None, None, None, 6 0           sequential_12[0][0]              \n",
      "                                                                 sequential_13[0][0]              \n",
      "__________________________________________________________________________________________________\n",
      "sequential_14 (Sequential)      (None, None, None, 1 5217        concatenate_6[0][0]              \n",
      "==================================================================================================\n",
      "Total params: 38,545\n",
      "Trainable params: 38,545\n",
      "Non-trainable params: 0\n",
      "__________________________________________________________________________________________________\n"
     ]
    }
   ],
   "metadata": {}
  },
  {
   "cell_type": "code",
   "execution_count": 110,
   "source": [
    "tf.keras.utils.plot_model(totalModel,to_file='advanced_model.png',show_shapes=True)"
   ],
   "outputs": [
    {
     "output_type": "execute_result",
     "data": {
      "text/plain": [
       "<IPython.core.display.Image object>"
      ],
      "image/png": "[encoded data removed]"
     },
     "metadata": {},
     "execution_count": 110
    }
   ],
   "metadata": {}
  },
  {
   "cell_type": "code",
   "execution_count": 111,
   "source": [
    "data = (data[0],np.zeros((data[0].shape[0],28,28,3)))"
   ],
   "outputs": [],
   "metadata": {}
  },
  {
   "cell_type": "code",
   "execution_count": 112,
   "source": [
    "totalModel.compile(optimizer=optimizers.Adam(learning_rate=0.001),loss='binary_crossentropy',metrics=['acc'])"
   ],
   "outputs": [],
   "metadata": {}
  },
  {
   "cell_type": "code",
   "execution_count": 113,
   "source": [
    "totalModel.fit(data,results,epochs=15,batch_size=64,validation_split=0.3)"
   ],
   "outputs": [
    {
     "output_type": "stream",
     "name": "stdout",
     "text": [
      "Epoch 1/15\n",
      "29/29 [==============================] - 5s 161ms/step - loss: 1.3276 - acc: 0.6572 - val_loss: 0.7651 - val_acc: 0.6319\n",
      "Epoch 2/15\n",
      "29/29 [==============================] - 4s 154ms/step - loss: 0.5757 - acc: 0.7272 - val_loss: 0.5077 - val_acc: 0.7819\n",
      "Epoch 3/15\n",
      "29/29 [==============================] - 5s 167ms/step - loss: 0.4906 - acc: 0.7832 - val_loss: 0.4916 - val_acc: 0.7959\n",
      "Epoch 4/15\n",
      "29/29 [==============================] - 5s 163ms/step - loss: 0.4653 - acc: 0.7938 - val_loss: 0.4685 - val_acc: 0.8002\n",
      "Epoch 5/15\n",
      "29/29 [==============================] - 5s 176ms/step - loss: 0.4557 - acc: 0.7988 - val_loss: 0.4690 - val_acc: 0.7915\n",
      "Epoch 6/15\n",
      "29/29 [==============================] - 5s 162ms/step - loss: 0.4513 - acc: 0.8005 - val_loss: 0.4539 - val_acc: 0.8044\n",
      "Epoch 7/15\n",
      "29/29 [==============================] - 5s 162ms/step - loss: 0.4461 - acc: 0.8044 - val_loss: 0.4487 - val_acc: 0.8077\n",
      "Epoch 8/15\n",
      "29/29 [==============================] - 5s 182ms/step - loss: 0.4364 - acc: 0.8093 - val_loss: 0.4438 - val_acc: 0.8138\n",
      "Epoch 9/15\n",
      "29/29 [==============================] - 5s 162ms/step - loss: 0.4319 - acc: 0.8110 - val_loss: 0.4465 - val_acc: 0.8187\n",
      "Epoch 10/15\n",
      "29/29 [==============================] - 5s 172ms/step - loss: 0.4290 - acc: 0.8136 - val_loss: 0.4491 - val_acc: 0.8176\n",
      "Epoch 11/15\n",
      "29/29 [==============================] - 5s 164ms/step - loss: 0.4305 - acc: 0.8142 - val_loss: 0.4289 - val_acc: 0.8206\n",
      "Epoch 12/15\n",
      "29/29 [==============================] - 5s 178ms/step - loss: 0.4295 - acc: 0.8153 - val_loss: 0.4270 - val_acc: 0.8236\n",
      "Epoch 13/15\n",
      "29/29 [==============================] - 5s 163ms/step - loss: 0.4221 - acc: 0.8184 - val_loss: 0.4275 - val_acc: 0.8116\n",
      "Epoch 14/15\n",
      "29/29 [==============================] - 5s 165ms/step - loss: 0.4208 - acc: 0.8163 - val_loss: 0.4072 - val_acc: 0.8264\n",
      "Epoch 15/15\n",
      "29/29 [==============================] - 5s 174ms/step - loss: 0.4014 - acc: 0.8238 - val_loss: 0.4012 - val_acc: 0.8270\n"
     ]
    },
    {
     "output_type": "execute_result",
     "data": {
      "text/plain": [
       "<tensorflow.python.keras.callbacks.History at 0x16a9002e0>"
      ]
     },
     "metadata": {},
     "execution_count": 113
    }
   ],
   "metadata": {}
  },
  {
   "cell_type": "code",
   "execution_count": 121,
   "source": [
    "diff3, input3, orig_video3 = getVariances('outdoor_window.avi')\n",
    "test_data = (np.concatenate([input3,diff3],axis=-1), np.zeros((diff3.shape[0],28,28,3)))"
   ],
   "outputs": [
    {
     "output_type": "stream",
     "name": "stdout",
     "text": [
      "Video loaded with 873 frames\n"
     ]
    }
   ],
   "metadata": {}
  },
  {
   "cell_type": "code",
   "execution_count": 122,
   "source": [
    "totalModel.evaluate(test_data,np.ones((test_data[0].shape[0],28,28,1)))"
   ],
   "outputs": [
    {
     "output_type": "stream",
     "name": "stdout",
     "text": [
      "28/28 [==============================] - 1s 18ms/step - loss: 0.3371 - acc: 0.8053\n"
     ]
    },
    {
     "output_type": "execute_result",
     "data": {
      "text/plain": [
       "[0.3371070921421051, 0.8052905201911926]"
      ]
     },
     "metadata": {},
     "execution_count": 122
    }
   ],
   "metadata": {}
  },
  {
   "cell_type": "code",
   "execution_count": null,
   "source": [],
   "outputs": [],
   "metadata": {}
  }
 ]
}