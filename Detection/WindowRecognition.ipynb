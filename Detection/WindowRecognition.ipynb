{
 "cells": [
  {
   "cell_type": "markdown",
   "metadata": {
    "id": "9fUj-K8CRUUd"
   },
   "source": [
    "# Set up environment"
   ]
  },
  {
   "cell_type": "markdown",
   "metadata": {
    "id": "3MtB_wE5RfJV"
   },
   "source": [
    "**Import libraries**"
   ]
  },
  {
   "cell_type": "code",
   "execution_count": 12,
   "metadata": {
    "id": "Vi5nR1RhRNw4"
   },
   "outputs": [],
   "source": [
    "from tensorflow.keras import layers\n",
    "from tensorflow.keras import Sequential\n",
    "from tensorflow.data import Dataset\n",
    "from tensorflow.keras import callbacks\n",
    "import numpy as np\n",
    "import cv2\n",
    "import time"
   ]
  },
  {
   "cell_type": "code",
   "execution_count": 2,
   "metadata": {
    "id": "JkoCknbItEEK"
   },
   "outputs": [],
   "source": [
    "def image_pooling(image, new_width, new_height, cvt_color):\n",
    "    img =  cv2.resize(image, (new_width, new_height), interpolation=cv2.INTER_AREA)\n",
    "    if cvt_color:\n",
    "        return cv2.cvtColor(img,cv2.COLOR_BGR2GRAY)\n",
    "    else:\n",
    "      return img\n",
    "\n",
    "def computeRollingVariance(square_sum, sum, num_elements):\n",
    "    return (square_sum/num_elements-(sum/num_elements)**2)"
   ]
  },
  {
   "cell_type": "code",
   "execution_count": 3,
   "metadata": {
    "id": "ndHuQSdSsaeF"
   },
   "outputs": [],
   "source": [
    "def getVariances(video_path, frame_width=128, frame_height=128, target_frame_width=28, target_frame_height=28):\n",
    "    \"\"\"\n",
    "    video_path is the file path to the input video\n",
    "    Uses functions in the github\n",
    "\n",
    "    Returns:\n",
    "    (diff_variances, input_variances)\n",
    "    \"\"\"\n",
    "    num_frame = 5\n",
    "    cap = cv2.VideoCapture(video_path)\n",
    "    fps = cap.get(5)\n",
    "    total_frames = int(cap.get(7))-num_frame+1\n",
    "    print('Video loaded with', total_frames,'frames')\n",
    "\n",
    "    diff_variances = np.zeros((total_frames,target_frame_height,target_frame_width),dtype=np.float64)\n",
    "    input_variances = np.zeros((total_frames,target_frame_height,target_frame_width),dtype=np.float64)\n",
    "    #Constants below\n",
    "    input_frames = np.zeros((num_frame, frame_height, frame_width), dtype=np.float32)\n",
    "    derivative1 = np.zeros((2, frame_height, frame_width), dtype=np.float32)\n",
    "    cur_derivative2_corrected = np.zeros((frame_height, frame_width), dtype=np.float32)\n",
    "    differences = np.zeros((num_frame, frame_height, frame_width), dtype=np.float32)\n",
    "    start_frame = 0\n",
    "    rotation_frequency = 1\n",
    "    frequency_const = rotation_frequency*2*np.pi\n",
    "    difference_sum = np.sum(differences,axis=0)\n",
    "    difference_square_sum = np.sum(np.square(differences),axis=0)\n",
    "    input_sum = np.sum(input_frames,axis=0)\n",
    "    input_square_sum = np.sum(np.square(input_frames),axis=0)\n",
    "    frame_num=0\n",
    "    start_time = time.time()\n",
    "    delta_time = 1\n",
    "    started = False\n",
    "    # Next part loops through each frame in video\n",
    "    while True:\n",
    "        ret, frame = cap.read()\n",
    "        if ret:\n",
    "            input_sum -= input_frames[start_frame]\n",
    "            input_square_sum -= np.square(input_frames[start_frame])\n",
    "            difference_sum -= differences[start_frame-1]\n",
    "            difference_square_sum -= np.square(differences[start_frame-1])\n",
    "            # read in image\n",
    "            input_frames[start_frame] = image_pooling(\n",
    "                frame, frame_width, frame_height, True)/255\n",
    "\n",
    "            # compute first derivative\n",
    "            derivative1[start_frame % 2] = (input_frames[start_frame]-input_frames[(start_frame-1)])/delta_time\n",
    "\n",
    "            # compute second derivative and correct its coefficient\n",
    "            cur_derivative2_corrected = (derivative1[start_frame % 2]-derivative1[(start_frame-1) % 2])/delta_time\n",
    "            cur_derivative2_corrected /= frequency_const**2\n",
    "\n",
    "            # compute difference between image and its second derivative. It's actually a +\n",
    "            # because of the negative sign from differentiation\n",
    "            differences[start_frame-1] = cur_derivative2_corrected + \\\n",
    "                input_frames[(start_frame-1)]\n",
    "\n",
    "            # add in new variance of the newly read in image and newly computed difference\n",
    "            input_sum += input_frames[start_frame]\n",
    "            input_square_sum += input_frames[start_frame]**2\n",
    "            difference_sum += differences[start_frame-1]\n",
    "            difference_square_sum += differences[start_frame-1]**2\n",
    "\n",
    "            # recompute variances\n",
    "            input_variance = computeRollingVariance(input_square_sum,input_sum,num_frame)\n",
    "            variances = computeRollingVariance(difference_square_sum,difference_sum,num_frame)\n",
    "            # note this is only an estimation of variance, not the actual variance, which may be difficult\n",
    "            # to evaluate on a rolling basis\n",
    "\n",
    "            # scale down variance to ensure connectiveness\n",
    "            diff_variances[frame_num] = image_pooling(\n",
    "                variances, target_frame_width, target_frame_height, False)\n",
    "            input_variances[frame_num] = image_pooling(\n",
    "                input_variance, target_frame_width, target_frame_height, False)\n",
    "            start_frame = (start_frame+1) % num_frame\n",
    "        else:\n",
    "            break\n",
    "        if start_frame == 0 :\n",
    "            started = True\n",
    "        if started :\n",
    "            frame_num += 1\n",
    "        delta_time = time.time()-start_time\n",
    "        start_time = time.time()\n",
    "    cap.release()\n",
    "    return diff_variances, input_variances"
   ]
  },
  {
   "cell_type": "code",
   "execution_count": 4,
   "metadata": {
    "id": "d0yZoO9XJFnt"
   },
   "outputs": [],
   "source": [
    "def variancesToDataset(diff_variance,input_variance,window_location, batch_size=16):\n",
    "    \"\"\"\n",
    "    diff_variance and input_variance are three dimensional numpy arrays, with third dimension being frame number\n",
    "    Before inputting into this function, stack every frame from all images to diff_variance and input_variance\n",
    "    window_location is binary for whether or not there is a window at a pixel in a certain frame\n",
    "\n",
    "    Returns:\n",
    "    Dataset\n",
    "    \"\"\"\n",
    "    features = np.transpose(np.array((diff_variance.flatten(),input_variance.flatten())))\n",
    "    data = (features,window_location.flatten())\n",
    "    ds = Dataset.from_tensor_slices(data)\n",
    "    return ds.batch(batch_size).prefetch(1)"
   ]
  },
  {
   "cell_type": "code",
   "execution_count": 6,
   "metadata": {
    "id": "WebR5JGWIzih"
   },
   "outputs": [],
   "source": [
    "def get2D(diff_variances, input_variances):\n",
    "    \"\"\"\n",
    "    diff_variance and input_variance are three dimensional numpy arrays, with third dimension being frame number\n",
    "    Before inputting into this function, stack every frame from all images to diff_variance and input_variance\n",
    "    \n",
    "    Returns:\n",
    "    2d numpy array with [variance, variance] as each row\n",
    "    \"\"\"\n",
    "    return np.transpose(np.array((diff_variances.flatten(),input_variances.flatten())))"
   ]
  },
  {
   "source": [
    "Preprocessing"
   ],
   "cell_type": "markdown",
   "metadata": {}
  },
  {
   "cell_type": "code",
   "execution_count": 7,
   "metadata": {
    "colab": {
     "base_uri": "https://localhost:8080/",
     "height": 393
    },
    "id": "gDz1qKrtSxXl",
    "outputId": "07a77a06-01c6-4889-f550-963be6fbef37"
   },
   "outputs": [
    {
     "output_type": "stream",
     "name": "stdout",
     "text": [
      "Video loaded with 215 frames\n"
     ]
    }
   ],
   "source": [
    "diff, input = getVariances('Clock_Face_2Videvo.mov')"
   ]
  },
  {
   "cell_type": "code",
   "execution_count": 13,
   "metadata": {
    "colab": {
     "base_uri": "https://localhost:8080/",
     "height": 136
    },
    "id": "4uP7g_3q70XI",
    "outputId": "8bbcca6d-edda-4ad3-a82c-405f93781c24"
   },
   "outputs": [
    {
     "output_type": "execute_result",
     "data": {
      "text/plain": [
       "(168560, 2)"
      ]
     },
     "metadata": {},
     "execution_count": 13
    }
   ],
   "source": [
    "features = get2D(diff,input)\n",
    "features.shape"
   ]
  },
  {
   "cell_type": "code",
   "execution_count": 10,
   "metadata": {
    "id": "az5JZK3kEeUY"
   },
   "outputs": [],
   "source": [
    "model = Sequential([\n",
    "    #tf.keras.layers.Dense(2, activation='relu', input_shape=(2,)),\n",
    "    layers.Dense(1, activation='sigmoid',input_shape=(2,))\n",
    "])\n",
    "\n",
    "model.compile(optimizer='adam',loss='binary_crossentropy',metrics=[\"accuracy\"])"
   ]
  },
  {
   "cell_type": "code",
   "execution_count": 11,
   "metadata": {
    "colab": {
     "base_uri": "https://localhost:8080/",
     "height": 187
    },
    "id": "LiOyhO5WGBcA",
    "outputId": "051a7a68-7f54-4b72-9ce6-aa2faca894dc"
   },
   "outputs": [
    {
     "output_type": "stream",
     "name": "stdout",
     "text": [
      "Model: \"sequential\"\n_________________________________________________________________\nLayer (type)                 Output Shape              Param #   \n=================================================================\ndense (Dense)                (None, 1)                 3         \n=================================================================\nTotal params: 3\nTrainable params: 3\nNon-trainable params: 0\n_________________________________________________________________\n"
     ]
    }
   ],
   "source": [
    "model.summary()"
   ]
  },
  {
   "cell_type": "code",
   "execution_count": 19,
   "metadata": {
    "colab": {
     "base_uri": "https://localhost:8080/",
     "height": 219
    },
    "id": "WsgT17HtGHVH",
    "outputId": "f663b283-9228-4e85-9954-ee6a37d835eb"
   },
   "outputs": [
    {
     "output_type": "stream",
     "name": "stdout",
     "text": [
      "Epoch 1/100\n",
      "2107/2107 - 1s - loss: 2.7986e-04 - accuracy: 1.0000 - val_loss: 1.2272e-04 - val_accuracy: 1.0000\n",
      "Epoch 2/100\n",
      "2107/2107 - 1s - loss: 1.1370e-04 - accuracy: 1.0000 - val_loss: 4.9869e-05 - val_accuracy: 1.0000\n",
      "Epoch 3/100\n",
      "2107/2107 - 1s - loss: 4.6364e-05 - accuracy: 1.0000 - val_loss: 2.0437e-05 - val_accuracy: 1.0000\n",
      "Epoch 4/100\n",
      "2107/2107 - 1s - loss: 1.8958e-05 - accuracy: 1.0000 - val_loss: 8.3985e-06 - val_accuracy: 1.0000\n",
      "Epoch 5/100\n",
      "2107/2107 - 1s - loss: 7.7675e-06 - accuracy: 1.0000 - val_loss: 3.4657e-06 - val_accuracy: 1.0000\n",
      "Epoch 6/100\n",
      "2107/2107 - 1s - loss: 3.2003e-06 - accuracy: 1.0000 - val_loss: 1.4431e-06 - val_accuracy: 1.0000\n",
      "Epoch 7/100\n",
      "2107/2107 - 1s - loss: 1.3328e-06 - accuracy: 1.0000 - val_loss: 6.1107e-07 - val_accuracy: 1.0000\n",
      "Epoch 8/100\n",
      "2107/2107 - 1s - loss: 5.6557e-07 - accuracy: 1.0000 - val_loss: 2.6515e-07 - val_accuracy: 1.0000\n",
      "Epoch 9/100\n",
      "2107/2107 - 1s - loss: 2.4928e-07 - accuracy: 1.0000 - val_loss: 1.2147e-07 - val_accuracy: 1.0000\n",
      "Epoch 10/100\n",
      "2107/2107 - 1s - loss: 1.1704e-07 - accuracy: 1.0000 - val_loss: 5.9977e-08 - val_accuracy: 1.0000\n",
      "Epoch 11/100\n",
      "2107/2107 - 1s - loss: 6.0444e-08 - accuracy: 1.0000 - val_loss: 3.3109e-08 - val_accuracy: 1.0000\n",
      "Epoch 12/100\n",
      "2107/2107 - 1s - loss: 3.5188e-08 - accuracy: 1.0000 - val_loss: 2.0615e-08 - val_accuracy: 1.0000\n",
      "Epoch 13/100\n",
      "2107/2107 - 1s - loss: 2.3014e-08 - accuracy: 1.0000 - val_loss: 1.4254e-08 - val_accuracy: 1.0000\n",
      "Epoch 14/100\n",
      "2107/2107 - 1s - loss: 1.6525e-08 - accuracy: 1.0000 - val_loss: 1.0652e-08 - val_accuracy: 1.0000\n",
      "Epoch 15/100\n",
      "2107/2107 - 1s - loss: 1.2696e-08 - accuracy: 1.0000 - val_loss: 8.4157e-09 - val_accuracy: 1.0000\n",
      "Epoch 16/100\n",
      "2107/2107 - 1s - loss: 1.0230e-08 - accuracy: 1.0000 - val_loss: 6.9193e-09 - val_accuracy: 1.0000\n",
      "Epoch 17/100\n",
      "2107/2107 - 1s - loss: 8.5326e-09 - accuracy: 1.0000 - val_loss: 5.8567e-09 - val_accuracy: 1.0000\n",
      "Epoch 18/100\n",
      "2107/2107 - 1s - loss: 7.3011e-09 - accuracy: 1.0000 - val_loss: 5.0675e-09 - val_accuracy: 1.0000\n",
      "Epoch 19/100\n",
      "2107/2107 - 1s - loss: 6.3711e-09 - accuracy: 1.0000 - val_loss: 4.4607e-09 - val_accuracy: 1.0000\n",
      "Epoch 20/100\n",
      "2107/2107 - 1s - loss: 5.6453e-09 - accuracy: 1.0000 - val_loss: 3.9805e-09 - val_accuracy: 1.0000\n",
      "Epoch 21/100\n",
      "2107/2107 - 1s - loss: 5.0643e-09 - accuracy: 1.0000 - val_loss: 3.5911e-09 - val_accuracy: 1.0000\n",
      "Epoch 22/100\n",
      "2107/2107 - 1s - loss: 4.5893e-09 - accuracy: 1.0000 - val_loss: 3.2697e-09 - val_accuracy: 1.0000\n",
      "Epoch 23/100\n",
      "2107/2107 - 1s - loss: 4.1939e-09 - accuracy: 1.0000 - val_loss: 3.0001e-09 - val_accuracy: 1.0000\n",
      "Epoch 24/100\n",
      "2107/2107 - 1s - loss: 3.8602e-09 - accuracy: 1.0000 - val_loss: 2.7709e-09 - val_accuracy: 1.0000\n",
      "Epoch 25/100\n",
      "2107/2107 - 1s - loss: 3.5747e-09 - accuracy: 1.0000 - val_loss: 2.5737e-09 - val_accuracy: 1.0000\n",
      "Epoch 26/100\n",
      "2107/2107 - 1s - loss: 3.3279e-09 - accuracy: 1.0000 - val_loss: 2.4022e-09 - val_accuracy: 1.0000\n",
      "Epoch 27/100\n",
      "2107/2107 - 1s - loss: 3.1125e-09 - accuracy: 1.0000 - val_loss: 2.2519e-09 - val_accuracy: 1.0000\n",
      "Epoch 28/100\n",
      "2107/2107 - 1s - loss: 2.9229e-09 - accuracy: 1.0000 - val_loss: 2.1190e-09 - val_accuracy: 1.0000\n",
      "Epoch 29/100\n",
      "2107/2107 - 1s - loss: 2.7548e-09 - accuracy: 1.0000 - val_loss: 2.0007e-09 - val_accuracy: 1.0000\n",
      "Epoch 30/100\n",
      "2107/2107 - 1s - loss: 2.6046e-09 - accuracy: 1.0000 - val_loss: 1.8948e-09 - val_accuracy: 1.0000\n",
      "Epoch 31/100\n",
      "2107/2107 - 1s - loss: 2.4698e-09 - accuracy: 1.0000 - val_loss: 1.7993e-09 - val_accuracy: 1.0000\n",
      "Epoch 32/100\n",
      "2107/2107 - 1s - loss: 2.3481e-09 - accuracy: 1.0000 - val_loss: 1.7130e-09 - val_accuracy: 1.0000\n",
      "Epoch 33/100\n",
      "2107/2107 - 1s - loss: 2.2378e-09 - accuracy: 1.0000 - val_loss: 1.6346e-09 - val_accuracy: 1.0000\n",
      "Epoch 34/100\n",
      "2107/2107 - 1s - loss: 2.1374e-09 - accuracy: 1.0000 - val_loss: 1.5630e-09 - val_accuracy: 1.0000\n",
      "Epoch 35/100\n",
      "2107/2107 - 1s - loss: 2.0455e-09 - accuracy: 1.0000 - val_loss: 1.4973e-09 - val_accuracy: 1.0000\n",
      "Epoch 36/100\n",
      "2107/2107 - 1s - loss: 1.9611e-09 - accuracy: 1.0000 - val_loss: 1.4369e-09 - val_accuracy: 1.0000\n",
      "Epoch 37/100\n",
      "2107/2107 - 1s - loss: 1.8832e-09 - accuracy: 1.0000 - val_loss: 1.3810e-09 - val_accuracy: 1.0000\n",
      "Epoch 38/100\n",
      "2107/2107 - 1s - loss: 1.8112e-09 - accuracy: 1.0000 - val_loss: 1.3293e-09 - val_accuracy: 1.0000\n",
      "Epoch 39/100\n",
      "2107/2107 - 1s - loss: 1.7444e-09 - accuracy: 1.0000 - val_loss: 1.2813e-09 - val_accuracy: 1.0000\n",
      "Epoch 40/100\n",
      "2107/2107 - 1s - loss: 1.6824e-09 - accuracy: 1.0000 - val_loss: 1.2366e-09 - val_accuracy: 1.0000\n",
      "Epoch 41/100\n",
      "2107/2107 - 1s - loss: 1.6246e-09 - accuracy: 1.0000 - val_loss: 1.1949e-09 - val_accuracy: 1.0000\n",
      "Epoch 42/100\n",
      "2107/2107 - 1s - loss: 1.5706e-09 - accuracy: 1.0000 - val_loss: 1.1560e-09 - val_accuracy: 1.0000\n",
      "Epoch 43/100\n",
      "2107/2107 - 1s - loss: 1.5202e-09 - accuracy: 1.0000 - val_loss: 1.1196e-09 - val_accuracy: 1.0000\n",
      "Epoch 44/100\n",
      "2107/2107 - 1s - loss: 1.4729e-09 - accuracy: 1.0000 - val_loss: 1.0853e-09 - val_accuracy: 1.0000\n",
      "Epoch 45/100\n",
      "2107/2107 - 1s - loss: 1.4283e-09 - accuracy: 1.0000 - val_loss: 1.0530e-09 - val_accuracy: 1.0000\n",
      "Epoch 46/100\n",
      "2107/2107 - 1s - loss: 1.3863e-09 - accuracy: 1.0000 - val_loss: 1.0226e-09 - val_accuracy: 1.0000\n",
      "Epoch 47/100\n",
      "2107/2107 - 1s - loss: 1.3468e-09 - accuracy: 1.0000 - val_loss: 9.9388e-10 - val_accuracy: 1.0000\n",
      "Epoch 48/100\n",
      "2107/2107 - 1s - loss: 1.3094e-09 - accuracy: 1.0000 - val_loss: 9.6675e-10 - val_accuracy: 1.0000\n",
      "Epoch 49/100\n",
      "2107/2107 - 1s - loss: 1.2740e-09 - accuracy: 1.0000 - val_loss: 9.4099e-10 - val_accuracy: 1.0000\n",
      "Epoch 50/100\n",
      "2107/2107 - 1s - loss: 1.2405e-09 - accuracy: 1.0000 - val_loss: 9.1659e-10 - val_accuracy: 1.0000\n",
      "Epoch 51/100\n",
      "2107/2107 - 1s - loss: 1.2086e-09 - accuracy: 1.0000 - val_loss: 8.9340e-10 - val_accuracy: 1.0000\n",
      "Epoch 52/100\n",
      "2107/2107 - 1s - loss: 1.1783e-09 - accuracy: 1.0000 - val_loss: 8.7132e-10 - val_accuracy: 1.0000\n",
      "Epoch 53/100\n",
      "2107/2107 - 1s - loss: 1.1495e-09 - accuracy: 1.0000 - val_loss: 8.5032e-10 - val_accuracy: 1.0000\n",
      "Epoch 54/100\n",
      "2107/2107 - 1s - loss: 1.1220e-09 - accuracy: 1.0000 - val_loss: 8.3028e-10 - val_accuracy: 1.0000\n",
      "Epoch 55/100\n",
      "2107/2107 - 1s - loss: 1.0958e-09 - accuracy: 1.0000 - val_loss: 8.1113e-10 - val_accuracy: 1.0000\n",
      "Epoch 56/100\n",
      "2107/2107 - 1s - loss: 1.0708e-09 - accuracy: 1.0000 - val_loss: 7.9288e-10 - val_accuracy: 1.0000\n",
      "Epoch 57/100\n",
      "2107/2107 - 1s - loss: 1.0469e-09 - accuracy: 1.0000 - val_loss: 7.7539e-10 - val_accuracy: 1.0000\n",
      "Epoch 58/100\n",
      "2107/2107 - 1s - loss: 1.0240e-09 - accuracy: 1.0000 - val_loss: 7.5873e-10 - val_accuracy: 1.0000\n",
      "Epoch 59/100\n",
      "2107/2107 - 1s - loss: 1.0021e-09 - accuracy: 1.0000 - val_loss: 7.4271e-10 - val_accuracy: 1.0000\n",
      "Epoch 60/100\n",
      "2107/2107 - 1s - loss: 9.8113e-10 - accuracy: 1.0000 - val_loss: 7.2736e-10 - val_accuracy: 1.0000\n",
      "Epoch 61/100\n",
      "2107/2107 - 1s - loss: 9.6111e-10 - accuracy: 1.0000 - val_loss: 7.1274e-10 - val_accuracy: 1.0000\n",
      "Epoch 62/100\n",
      "2107/2107 - 1s - loss: 9.4194e-10 - accuracy: 1.0000 - val_loss: 6.9866e-10 - val_accuracy: 1.0000\n",
      "Epoch 63/100\n",
      "2107/2107 - 1s - loss: 9.2345e-10 - accuracy: 1.0000 - val_loss: 6.8509e-10 - val_accuracy: 1.0000\n",
      "Epoch 64/100\n",
      "2107/2107 - 1s - loss: 9.0566e-10 - accuracy: 1.0000 - val_loss: 6.7207e-10 - val_accuracy: 1.0000\n",
      "Epoch 65/100\n",
      "2107/2107 - 1s - loss: 8.8858e-10 - accuracy: 1.0000 - val_loss: 6.5952e-10 - val_accuracy: 1.0000\n",
      "Epoch 66/100\n",
      "2107/2107 - 1s - loss: 8.7214e-10 - accuracy: 1.0000 - val_loss: 6.4748e-10 - val_accuracy: 1.0000\n",
      "Epoch 67/100\n",
      "2107/2107 - 1s - loss: 8.5635e-10 - accuracy: 1.0000 - val_loss: 6.3590e-10 - val_accuracy: 1.0000\n",
      "Epoch 68/100\n",
      "2107/2107 - 1s - loss: 8.4110e-10 - accuracy: 1.0000 - val_loss: 6.2465e-10 - val_accuracy: 1.0000\n",
      "Epoch 69/100\n",
      "2107/2107 - 1s - loss: 8.2634e-10 - accuracy: 1.0000 - val_loss: 6.1381e-10 - val_accuracy: 1.0000\n",
      "Epoch 70/100\n",
      "2107/2107 - 1s - loss: 8.1212e-10 - accuracy: 1.0000 - val_loss: 6.0336e-10 - val_accuracy: 1.0000\n",
      "Epoch 71/100\n",
      "2107/2107 - 1s - loss: 7.9832e-10 - accuracy: 1.0000 - val_loss: 5.9319e-10 - val_accuracy: 1.0000\n",
      "Epoch 72/100\n",
      "2107/2107 - 1s - loss: 7.8497e-10 - accuracy: 1.0000 - val_loss: 5.8338e-10 - val_accuracy: 1.0000\n",
      "Epoch 73/100\n",
      "2107/2107 - 1s - loss: 7.7204e-10 - accuracy: 1.0000 - val_loss: 5.7387e-10 - val_accuracy: 1.0000\n",
      "Epoch 74/100\n",
      "2107/2107 - 1s - loss: 7.5953e-10 - accuracy: 1.0000 - val_loss: 5.6467e-10 - val_accuracy: 1.0000\n",
      "Epoch 75/100\n",
      "2107/2107 - 1s - loss: 7.4744e-10 - accuracy: 1.0000 - val_loss: 5.5576e-10 - val_accuracy: 1.0000\n",
      "Epoch 76/100\n",
      "2107/2107 - 1s - loss: 7.3570e-10 - accuracy: 1.0000 - val_loss: 5.4710e-10 - val_accuracy: 1.0000\n",
      "Epoch 77/100\n",
      "2107/2107 - 1s - loss: 7.2432e-10 - accuracy: 1.0000 - val_loss: 5.3874e-10 - val_accuracy: 1.0000\n",
      "Epoch 78/100\n",
      "2107/2107 - 1s - loss: 7.1331e-10 - accuracy: 1.0000 - val_loss: 5.3062e-10 - val_accuracy: 1.0000\n",
      "Epoch 79/100\n",
      "2107/2107 - 1s - loss: 7.0262e-10 - accuracy: 1.0000 - val_loss: 5.2275e-10 - val_accuracy: 1.0000\n",
      "Epoch 80/100\n",
      "2107/2107 - 1s - loss: 6.9227e-10 - accuracy: 1.0000 - val_loss: 5.1513e-10 - val_accuracy: 1.0000\n",
      "Epoch 81/100\n",
      "2107/2107 - 1s - loss: 6.8218e-10 - accuracy: 1.0000 - val_loss: 5.0768e-10 - val_accuracy: 1.0000\n",
      "Epoch 82/100\n",
      "2107/2107 - 1s - loss: 6.7242e-10 - accuracy: 1.0000 - val_loss: 5.0049e-10 - val_accuracy: 1.0000\n",
      "Epoch 83/100\n",
      "2107/2107 - 1s - loss: 6.6295e-10 - accuracy: 1.0000 - val_loss: 4.9352e-10 - val_accuracy: 1.0000\n",
      "Epoch 84/100\n",
      "2107/2107 - 1s - loss: 6.5375e-10 - accuracy: 1.0000 - val_loss: 4.8675e-10 - val_accuracy: 1.0000\n",
      "Epoch 85/100\n",
      "2107/2107 - 1s - loss: 6.4485e-10 - accuracy: 1.0000 - val_loss: 4.8016e-10 - val_accuracy: 1.0000\n",
      "Epoch 86/100\n",
      "2107/2107 - 1s - loss: 6.3615e-10 - accuracy: 1.0000 - val_loss: 4.7376e-10 - val_accuracy: 1.0000\n",
      "Epoch 87/100\n",
      "2107/2107 - 1s - loss: 6.2770e-10 - accuracy: 1.0000 - val_loss: 4.6751e-10 - val_accuracy: 1.0000\n",
      "Epoch 88/100\n",
      "2107/2107 - 1s - loss: 6.1943e-10 - accuracy: 1.0000 - val_loss: 4.6140e-10 - val_accuracy: 1.0000\n",
      "Epoch 89/100\n",
      "2107/2107 - 1s - loss: 6.1139e-10 - accuracy: 1.0000 - val_loss: 4.5546e-10 - val_accuracy: 1.0000\n",
      "Epoch 90/100\n",
      "2107/2107 - 1s - loss: 6.0352e-10 - accuracy: 1.0000 - val_loss: 4.4965e-10 - val_accuracy: 1.0000\n",
      "Epoch 91/100\n",
      "2107/2107 - 1s - loss: 5.9584e-10 - accuracy: 1.0000 - val_loss: 4.4397e-10 - val_accuracy: 1.0000\n",
      "Epoch 92/100\n",
      "2107/2107 - 1s - loss: 5.8836e-10 - accuracy: 1.0000 - val_loss: 4.3845e-10 - val_accuracy: 1.0000\n",
      "Epoch 93/100\n",
      "2107/2107 - 1s - loss: 5.8105e-10 - accuracy: 1.0000 - val_loss: 4.3303e-10 - val_accuracy: 1.0000\n",
      "Epoch 94/100\n",
      "2107/2107 - 1s - loss: 5.7386e-10 - accuracy: 1.0000 - val_loss: 4.2770e-10 - val_accuracy: 1.0000\n",
      "Epoch 95/100\n",
      "2107/2107 - 1s - loss: 5.6684e-10 - accuracy: 1.0000 - val_loss: 4.2250e-10 - val_accuracy: 1.0000\n",
      "Epoch 96/100\n",
      "2107/2107 - 1s - loss: 5.5996e-10 - accuracy: 1.0000 - val_loss: 4.1742e-10 - val_accuracy: 1.0000\n",
      "Epoch 97/100\n",
      "2107/2107 - 1s - loss: 5.5322e-10 - accuracy: 1.0000 - val_loss: 4.1241e-10 - val_accuracy: 1.0000\n",
      "Epoch 98/100\n",
      "2107/2107 - 1s - loss: 5.4663e-10 - accuracy: 1.0000 - val_loss: 4.0755e-10 - val_accuracy: 1.0000\n",
      "Epoch 99/100\n",
      "2107/2107 - 1s - loss: 5.4019e-10 - accuracy: 1.0000 - val_loss: 4.0278e-10 - val_accuracy: 1.0000\n",
      "Epoch 100/100\n",
      "2107/2107 - 1s - loss: 5.3389e-10 - accuracy: 1.0000 - val_loss: 3.9815e-10 - val_accuracy: 1.0000\n"
     ]
    },
    {
     "output_type": "execute_result",
     "data": {
      "text/plain": [
       "<tensorflow.python.keras.callbacks.History at 0x7feb79826190>"
      ]
     },
     "metadata": {},
     "execution_count": 19
    }
   ],
   "source": [
    "stopper = callbacks.EarlyStopping(monitor='val_loss',patience=5)\n",
    "model.fit(\n",
    "    features,\n",
    "    np.zeros(features.shape[0]),\n",
    "    batch_size=64, \n",
    "    epochs=100, \n",
    "    validation_split=0.2,\n",
    "    callbacks=[stopper],\n",
    "    verbose=2\n",
    ")"
   ]
  },
  {
   "cell_type": "code",
   "execution_count": 21,
   "metadata": {
    "id": "ATpiXIQFUJRN"
   },
   "outputs": [],
   "source": [
    "model.save('simpleLogistic.h5')"
   ]
  },
  {
   "cell_type": "code",
   "execution_count": 20,
   "metadata": {},
   "outputs": [
    {
     "output_type": "execute_result",
     "data": {
      "text/plain": [
       "array([2.1509803e-09, 2.9907338e-10, 4.5601242e-10, 2.8925329e-10,\n",
       "       3.2597089e-09, 2.8804001e-09, 2.6907134e-09, 5.9202954e-09,\n",
       "       7.3479556e-09, 9.6833441e-10], dtype=float32)"
      ]
     },
     "metadata": {},
     "execution_count": 20
    }
   ],
   "source": [
    "output = model.predict(features[:10])\n",
    "output.flatten()"
   ]
  },
  {
   "cell_type": "code",
   "execution_count": null,
   "metadata": {},
   "outputs": [],
   "source": []
  }
 ],
 "metadata": {
  "colab": {
   "collapsed_sections": [],
   "name": "WindowRecognition.ipynb",
   "provenance": [],
   "toc_visible": true
  },
  "kernelspec": {
   "display_name": "Python 3",
   "language": "python",
   "name": "python3"
  },
  "language_info": {
   "codemirror_mode": {
    "name": "ipython",
    "version": 3
   },
   "file_extension": ".py",
   "mimetype": "text/x-python",
   "name": "python",
   "nbconvert_exporter": "python",
   "pygments_lexer": "ipython3",
   "version": "3.7.7-final"
  }
 },
 "nbformat": 4,
 "nbformat_minor": 1
}