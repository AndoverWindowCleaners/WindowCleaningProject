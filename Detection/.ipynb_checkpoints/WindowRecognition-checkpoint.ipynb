{
 "cells": [
  {
   "cell_type": "markdown",
   "metadata": {
    "id": "9fUj-K8CRUUd"
   },
   "source": [
    "# Set up environment"
   ]
  },
  {
   "cell_type": "markdown",
   "metadata": {
    "id": "3MtB_wE5RfJV"
   },
   "source": [
    "**Import libraries**"
   ]
  },
  {
   "cell_type": "code",
   "execution_count": 1,
   "metadata": {
    "id": "Vi5nR1RhRNw4"
   },
   "outputs": [],
   "source": [
    "import tensorflow as tf\n",
    "from tensorflow.keras import layers\n",
    "from tensorflow.keras import Sequential\n",
    "from tensorflow.data import Dataset\n",
    "from tensorflow.keras import callbacks\n",
    "import numpy as np\n",
    "import cv2\n",
    "import copy\n",
    "import time"
   ]
  },
  {
   "cell_type": "code",
   "execution_count": 2,
   "metadata": {
    "id": "JkoCknbItEEK"
   },
   "outputs": [],
   "source": [
    "def image_pooling(image, new_width, new_height):\n",
    "    return cv2.resize(image, (new_height, new_width), interpolation=cv2.INTER_AREA)\n",
    "\n",
    "def computeRollingVarianceSum(mean, prev_mean, cur, last):\n",
    "    return  (cur - prev_mean) * (cur - mean) - (last - prev_mean) * (last - mean)\n",
    "\n",
    "def swapPositions(li, pos1, pos2):\n",
    "    li[pos1],li[pos2] = li[pos2],li[pos1]\n",
    "    return li\n",
    "def push_down(li):\n",
    "    for i in range(len(li)-1):\n",
    "        swapPositions(li, i, i+1)\n",
    "     #list[-1] is untouched\n",
    "    return li"
   ]
  },
  {
   "cell_type": "code",
   "execution_count": 4,
   "metadata": {
    "id": "ndHuQSdSsaeF"
   },
   "outputs": [],
   "source": [
    "def getVariances(video_path, frame_width=128, frame_height=128, target_frame_width=28, target_frame_height=28):\n",
    "    \"\"\"\n",
    "    video_path is the file path to the input video\n",
    "    Uses functions in the github\n",
    "\n",
    "    Returns:\n",
    "    (diff_variances, input_variances)\n",
    "    \"\"\"\n",
    "\n",
    "    rotation_frequency = 150  # enter in revolution per second\n",
    "\n",
    "    # say the input frames are periodic and can be described by a*sin(bx+c)+d\n",
    "    # its derivative is a*b*cos(bx+c)\n",
    "    # its second derivative is -a*b*b*sin(bx+c)\n",
    "    # so f(x)-f'(x-pi/(2*b))/b should be constant so should f(x)+f\"(x)/b/b\n",
    "    # the second is much better because the first involves a phase shift which\n",
    "    # requires access to data taken pi/(2*b) ago and will thus lower the processing\n",
    "    # speed or accuracy.\n",
    "    # the key is to know b, which is equal to frequency*2pi\n",
    "    frequency_const = rotation_frequency*2*np.pi\n",
    "\n",
    "    num_frame = 5\n",
    "\n",
    "    cap = cv2.VideoCapture(video_path)\n",
    "    fps = cap.get(5)\n",
    "    total_frames = int(cap.get(7))-num_frame+1\n",
    "    print('Video loaded with', total_frames,'frames')\n",
    "\n",
    "    input_frame = [np.zeros((target_frame_width,target_frame_height),dtype=np.float32) for i in range(num_frame+1)]\n",
    "    input_mean = np.zeros((target_frame_width,target_frame_height),dtype=np.float32)\n",
    "    input_var_sum = np.zeros((target_frame_width,target_frame_height),dtype=np.float32)\n",
    "\n",
    "    derivative1 = [np.zeros((target_frame_width,target_frame_height),dtype=np.float32) for i in range(num_frame)]\n",
    "    derivative2 = [np.zeros((target_frame_width,target_frame_height),dtype=np.float32) for i in range(num_frame-1)]\n",
    "\n",
    "    diff = [np.zeros((target_frame_width,target_frame_height),dtype=np.float32) for i in range(num_frame-1)]\n",
    "    diff_mean = np.zeros((target_frame_width,target_frame_height),dtype=np.float32)\n",
    "    diff_var_sum = np.zeros((target_frame_width,target_frame_height),dtype=np.float32)\n",
    "\n",
    "    input_vars = np.zeros((int(cap.get(7)),target_frame_width,target_frame_height),dtype=np.float32)\n",
    "    diff_vars = np.zeros((int(cap.get(7)),target_frame_width,target_frame_height),dtype=np.float32)\n",
    "\n",
    "    deltaTime = 1.0/fps\n",
    "    for i in range(int(cap.get(7))):\n",
    "        ret, frame = cap.read()\n",
    "        assert ret\n",
    "        # shallow copy !!!\n",
    "        prev_input_mean = copy.deepcopy(input_mean)\n",
    "        prev_diff_mean = copy.deepcopy(diff_mean)\n",
    "\n",
    "        input_frame = push_down(input_frame)\n",
    "        frame = cv2.cvtColor(frame,cv2.COLOR_BGR2GRAY)\n",
    "        frame = image_pooling(frame, target_frame_width, target_frame_height)\n",
    "        del_input_frame = copy.deepcopy(input_frame[-1])\n",
    "        input_frame[-1]=frame\n",
    "        input_mean = (input_mean*(num_frame+1) + frame - del_input_frame)/(num_frame+1)\n",
    "        # 1 2 3 3 4 6\n",
    "        #  1 2 3 4 5\n",
    "        #   3 4 5 6\n",
    "        derivative1 = push_down(derivative1)\n",
    "        derivative1[-1]=(input_frame[-1]-input_frame[-2])/deltaTime\n",
    "        derivative2 = push_down(derivative2)\n",
    "        derivative2[-1]=(derivative1[-1]-derivative1[-2])/deltaTime\n",
    "\n",
    "        diff = push_down(diff)\n",
    "        del_diff = copy.deepcopy(diff[-1])\n",
    "        diff[-1] = input_frame[-2]+derivative2[-1]/(frequency_const**2)\n",
    "        diff_mean = (diff_mean*(num_frame-1) + diff[-1] - del_diff)/(num_frame-1)\n",
    "\n",
    "\n",
    "        input_var_sum += computeRollingVarianceSum(input_mean, prev_input_mean, input_frame[-1], del_input_frame)\n",
    "\n",
    "        diff_var_sum += computeRollingVarianceSum(diff_mean, prev_diff_mean, diff[-1], del_diff)\n",
    "\n",
    "        input_var_sum2 = np.var(np.asarray(input_frame), axis=0)\n",
    "        diff_var_sum2 = np.var(np.asarray(diff), axis=0)\n",
    "\n",
    "        input_vars[i] = input_var_sum/(num_frame+1)\n",
    "        diff_vars[i] = diff_var_sum/(num_frame-1)\n",
    "    return diff_vars, input_vars\n",
    "\n"
   ]
  },
  {
   "cell_type": "code",
   "execution_count": 5,
   "metadata": {
    "id": "d0yZoO9XJFnt"
   },
   "outputs": [],
   "source": [
    "def variancesToDataset(diff_variance,input_variance,window_location, batch_size=16):\n",
    "    \"\"\"\n",
    "    diff_variance and input_variance are three dimensional numpy arrays, with third dimension being frame number\n",
    "    Before inputting into this function, stack every frame from all images to diff_variance and input_variance\n",
    "    window_location is binary for whether or not there is a window at a pixel in a certain frame\n",
    "\n",
    "    Returns:\n",
    "    Dataset\n",
    "    \"\"\"\n",
    "    features = np.transpose(np.array((diff_variance.flatten(),input_variance.flatten())))\n",
    "    data = (features,window_location.flatten())\n",
    "    ds = Dataset.from_tensor_slices(data)\n",
    "    return ds.batch(batch_size).prefetch(1)"
   ]
  },
  {
   "cell_type": "code",
   "execution_count": 8,
   "metadata": {
    "id": "WebR5JGWIzih"
   },
   "outputs": [],
   "source": [
    "def get2D(diff_variances, input_variances):\n",
    "    \"\"\"\n",
    "    diff_variance and input_variance are three dimensional numpy arrays, with third dimension being frame number\n",
    "    Before inputting into this function, stack every frame from all images to diff_variance and input_variance\n",
    "    \n",
    "    Returns:\n",
    "    2d numpy array with [variance, variance] as each row\n",
    "    \"\"\"\n",
    "    return np.transpose(np.array((diff_variances.flatten(),input_variances.flatten())))"
   ]
  },
  {
   "cell_type": "markdown",
   "metadata": {},
   "source": [
    "Preprocessing"
   ]
  },
  {
   "cell_type": "code",
   "execution_count": 9,
   "metadata": {
    "colab": {
     "base_uri": "https://localhost:8080/",
     "height": 393
    },
    "id": "gDz1qKrtSxXl",
    "outputId": "07a77a06-01c6-4889-f550-963be6fbef37",
    "tags": [
     "outputPrepend"
    ]
   },
   "outputs": [
    {
     "name": "stdout",
     "output_type": "stream",
     "text": [
      "Video loaded with 383 frames\n",
      "Video loaded with 1990 frames\n"
     ]
    }
   ],
   "source": [
    "diff1, input1 = getVariances('outdoor_window_Trim.mp4')\n",
    "diff2, input2 = getVariances('indoor.avi')"
   ]
  },
  {
   "cell_type": "code",
   "execution_count": null,
   "metadata": {},
   "outputs": [],
   "source": []
  },
  {
   "cell_type": "code",
   "execution_count": 10,
   "metadata": {
    "colab": {
     "base_uri": "https://localhost:8080/",
     "height": 136
    },
    "id": "4uP7g_3q70XI",
    "outputId": "8bbcca6d-edda-4ad3-a82c-405f93781c24"
   },
   "outputs": [
    {
     "data": {
      "text/plain": [
       "array([1.7371960e-03, 1.2534722e+03], dtype=float32)"
      ]
     },
     "execution_count": 10,
     "metadata": {},
     "output_type": "execute_result"
    }
   ],
   "source": [
    "features1 = get2D(diff1,input1)\n",
    "features2 = get2D(diff2,input2)\n",
    "features2 = features2[:features1.shape[0]]\n",
    "features = np.concatenate((features1, features2))\n",
    "features[10]"
   ]
  },
  {
   "cell_type": "code",
   "execution_count": 11,
   "metadata": {},
   "outputs": [],
   "source": [
    "labels1 = np.ones(features1.shape[0])\n",
    "labels2 = np.zeros(features2.shape[0])\n",
    "labels = np.concatenate((labels1,labels2))"
   ]
  },
  {
   "cell_type": "code",
   "execution_count": 22,
   "metadata": {},
   "outputs": [
    {
     "data": {
      "text/plain": [
       "303408"
      ]
     },
     "execution_count": 22,
     "metadata": {},
     "output_type": "execute_result"
    }
   ],
   "source": []
  },
  {
   "cell_type": "code",
   "execution_count": 31,
   "metadata": {
    "id": "az5JZK3kEeUY"
   },
   "outputs": [],
   "source": [
    "model = Sequential([\n",
    "    tf.keras.layers.Dense(8, activation='relu', input_shape=(2,)),\n",
    "    tf.keras.layers.Dense(4, activation='relu'),\n",
    "    layers.Dense(1, activation='sigmoid')\n",
    "])\n",
    "\n",
    "loss = tf.keras.losses.BinaryCrossentropy(from_logits=True)\n",
    "\n",
    "model.compile(optimizer='adam',loss=loss,metrics=[\"acc\"])"
   ]
  },
  {
   "cell_type": "code",
   "execution_count": 32,
   "metadata": {
    "colab": {
     "base_uri": "https://localhost:8080/",
     "height": 187
    },
    "id": "LiOyhO5WGBcA",
    "outputId": "051a7a68-7f54-4b72-9ce6-aa2faca894dc"
   },
   "outputs": [
    {
     "name": "stdout",
     "output_type": "stream",
     "text": [
      "Model: \"sequential_5\"\n",
      "_________________________________________________________________\n",
      "Layer (type)                 Output Shape              Param #   \n",
      "=================================================================\n",
      "dense_15 (Dense)             (None, 8)                 24        \n",
      "_________________________________________________________________\n",
      "dense_16 (Dense)             (None, 4)                 36        \n",
      "_________________________________________________________________\n",
      "dense_17 (Dense)             (None, 1)                 5         \n",
      "=================================================================\n",
      "Total params: 65\n",
      "Trainable params: 65\n",
      "Non-trainable params: 0\n",
      "_________________________________________________________________\n"
     ]
    }
   ],
   "source": [
    "model.summary()"
   ]
  },
  {
   "cell_type": "code",
   "execution_count": 27,
   "metadata": {
    "colab": {
     "base_uri": "https://localhost:8080/",
     "height": 219
    },
    "id": "WsgT17HtGHVH",
    "outputId": "f663b283-9228-4e85-9954-ee6a37d835eb"
   },
   "outputs": [
    {
     "name": "stdout",
     "output_type": "stream",
     "text": [
      "Epoch 1/100\n",
      "30341/30341 [==============================] - 33s 1ms/step - loss: 0.8036 - accuracy: 0.7876 - val_loss: 0.5706 - val_accuracy: 0.7809\n",
      "Epoch 2/100\n",
      "30341/30341 [==============================] - 31s 1ms/step - loss: 0.3956 - accuracy: 0.8107 - val_loss: 0.7304 - val_accuracy: 0.6482\n",
      "Epoch 3/100\n",
      "30341/30341 [==============================] - 35s 1ms/step - loss: 0.3843 - accuracy: 0.8174 - val_loss: 0.6398 - val_accuracy: 0.7262\n",
      "Epoch 4/100\n",
      "30341/30341 [==============================] - 47s 2ms/step - loss: 0.3728 - accuracy: 0.8255 - val_loss: 0.5566 - val_accuracy: 0.7863\n",
      "Epoch 5/100\n",
      "30341/30341 [==============================] - 42s 1ms/step - loss: 0.3627 - accuracy: 0.8303 - val_loss: 0.5788 - val_accuracy: 0.7742\n",
      "Epoch 6/100\n",
      "30341/30341 [==============================] - 48s 2ms/step - loss: 0.3602 - accuracy: 0.8307 - val_loss: 0.5578 - val_accuracy: 0.7868\n",
      "Epoch 7/100\n",
      "30341/30341 [==============================] - 42s 1ms/step - loss: 0.3596 - accuracy: 0.8312 - val_loss: 0.5567 - val_accuracy: 0.7806\n",
      "Epoch 8/100\n",
      "30341/30341 [==============================] - 34s 1ms/step - loss: 0.3606 - accuracy: 0.8301 - val_loss: 0.6269 - val_accuracy: 0.7278\n",
      "Epoch 9/100\n",
      "30341/30341 [==============================] - 34s 1ms/step - loss: 0.3611 - accuracy: 0.8301 - val_loss: 0.6381 - val_accuracy: 0.7353\n",
      "Epoch 10/100\n",
      "30341/30341 [==============================] - 40s 1ms/step - loss: 0.3598 - accuracy: 0.8307 - val_loss: 0.6022 - val_accuracy: 0.7549\n",
      "Epoch 11/100\n",
      "30341/30341 [==============================] - 57s 2ms/step - loss: 0.3606 - accuracy: 0.8305 - val_loss: 0.6521 - val_accuracy: 0.7221\n",
      "Epoch 12/100\n",
      "30341/30341 [==============================] - 48s 2ms/step - loss: 0.3606 - accuracy: 0.8304 - val_loss: 0.7136 - val_accuracy: 0.6833\n",
      "Epoch 13/100\n",
      "30341/30341 [==============================] - 46s 2ms/step - loss: 0.3590 - accuracy: 0.8308 - val_loss: 0.6253 - val_accuracy: 0.7426\n",
      "Epoch 14/100\n",
      "30341/30341 [==============================] - 38s 1ms/step - loss: 0.3615 - accuracy: 0.8301 - val_loss: 0.6550 - val_accuracy: 0.7240\n",
      "Epoch 15/100\n",
      "30341/30341 [==============================] - 25s 808us/step - loss: 0.3597 - accuracy: 0.8310 - val_loss: 0.6978 - val_accuracy: 0.6928\n",
      "Epoch 16/100\n",
      "30341/30341 [==============================] - 24s 797us/step - loss: 0.3601 - accuracy: 0.8305 - val_loss: 0.6363 - val_accuracy: 0.7379\n",
      "Epoch 17/100\n",
      "30341/30341 [==============================] - 30s 992us/step - loss: 0.3617 - accuracy: 0.8296 - val_loss: 0.6272 - val_accuracy: 0.7311\n",
      "Epoch 18/100\n",
      "30341/30341 [==============================] - 32s 1ms/step - loss: 0.3601 - accuracy: 0.8303 - val_loss: 0.6145 - val_accuracy: 0.7485\n",
      "Epoch 19/100\n",
      "30341/30341 [==============================] - 32s 1ms/step - loss: 0.3594 - accuracy: 0.8306 - val_loss: 0.5377 - val_accuracy: 0.7967\n",
      "Epoch 20/100\n",
      "30341/30341 [==============================] - 30s 974us/step - loss: 0.3603 - accuracy: 0.8311 - val_loss: 0.6803 - val_accuracy: 0.7179\n",
      "Epoch 21/100\n",
      "30341/30341 [==============================] - 34s 1ms/step - loss: 0.3584 - accuracy: 0.8308 - val_loss: 0.6801 - val_accuracy: 0.7081\n",
      "Epoch 22/100\n",
      "30341/30341 [==============================] - 146s 5ms/step - loss: 0.3570 - accuracy: 0.8313 - val_loss: 0.5993 - val_accuracy: 0.7610\n",
      "Epoch 23/100\n",
      "30341/30341 [==============================] - 143s 5ms/step - loss: 0.3569 - accuracy: 0.8311 - val_loss: 0.6386 - val_accuracy: 0.7325\n",
      "Epoch 24/100\n",
      "30341/30341 [==============================] - 143s 5ms/step - loss: 0.3591 - accuracy: 0.8302 - val_loss: 0.5955 - val_accuracy: 0.7649\n",
      "Epoch 25/100\n",
      "30341/30341 [==============================] - 141s 5ms/step - loss: 0.3569 - accuracy: 0.8317 - val_loss: 0.6202 - val_accuracy: 0.7471\n",
      "Epoch 26/100\n",
      "30341/30341 [==============================] - 148s 5ms/step - loss: 0.3571 - accuracy: 0.8320 - val_loss: 0.6152 - val_accuracy: 0.7422\n",
      "Epoch 27/100\n",
      "30341/30341 [==============================] - 145s 5ms/step - loss: 0.3585 - accuracy: 0.8308 - val_loss: 0.6925 - val_accuracy: 0.7041\n",
      "Epoch 28/100\n",
      "30341/30341 [==============================] - 125s 4ms/step - loss: 0.3576 - accuracy: 0.8314 - val_loss: 0.7060 - val_accuracy: 0.6980\n",
      "Epoch 29/100\n",
      "30341/30341 [==============================] - 106s 3ms/step - loss: 0.3564 - accuracy: 0.8318 - val_loss: 0.5598 - val_accuracy: 0.7798\n",
      "Epoch 30/100\n",
      "30341/30341 [==============================] - 105s 3ms/step - loss: 0.3571 - accuracy: 0.8315 - val_loss: 0.7044 - val_accuracy: 0.6897\n",
      "Epoch 31/100\n",
      "30341/30341 [==============================] - 88s 3ms/step - loss: 0.3562 - accuracy: 0.8319 - val_loss: 0.6336 - val_accuracy: 0.7307\n",
      "Epoch 32/100\n",
      "30341/30341 [==============================] - 79s 3ms/step - loss: 0.3575 - accuracy: 0.8310 - val_loss: 0.5567 - val_accuracy: 0.7745\n",
      "Epoch 33/100\n",
      "30341/30341 [==============================] - 104s 3ms/step - loss: 0.3575 - accuracy: 0.8315 - val_loss: 0.6026 - val_accuracy: 0.7513\n",
      "Epoch 34/100\n",
      "30341/30341 [==============================] - 96s 3ms/step - loss: 0.3577 - accuracy: 0.8316 - val_loss: 0.5462 - val_accuracy: 0.7928\n",
      "Epoch 35/100\n",
      "30341/30341 [==============================] - 96s 3ms/step - loss: 0.3578 - accuracy: 0.8309 - val_loss: 0.5985 - val_accuracy: 0.7650\n",
      "Epoch 36/100\n",
      "30341/30341 [==============================] - 101s 3ms/step - loss: 0.3572 - accuracy: 0.8314 - val_loss: 0.6251 - val_accuracy: 0.7374\n",
      "Epoch 37/100\n",
      "30341/30341 [==============================] - 118s 4ms/step - loss: 0.3561 - accuracy: 0.8317 - val_loss: 0.5783 - val_accuracy: 0.7633\n",
      "Epoch 38/100\n",
      "30341/30341 [==============================] - 123s 4ms/step - loss: 0.3576 - accuracy: 0.8313 - val_loss: 0.6133 - val_accuracy: 0.7443\n",
      "Epoch 39/100\n",
      "30341/30341 [==============================] - 120s 4ms/step - loss: 0.3579 - accuracy: 0.8310 - val_loss: 0.6417 - val_accuracy: 0.7270\n",
      "Epoch 40/100\n",
      "30341/30341 [==============================] - 120s 4ms/step - loss: 0.3566 - accuracy: 0.8317 - val_loss: 0.6960 - val_accuracy: 0.6925\n",
      "Epoch 41/100\n",
      "30341/30341 [==============================] - 122s 4ms/step - loss: 0.3585 - accuracy: 0.8306 - val_loss: 0.6473 - val_accuracy: 0.7228\n",
      "Epoch 42/100\n",
      "30341/30341 [==============================] - 119s 4ms/step - loss: 0.3583 - accuracy: 0.8302 - val_loss: 0.5826 - val_accuracy: 0.7616\n",
      "Epoch 43/100\n",
      "30341/30341 [==============================] - 121s 4ms/step - loss: 0.3578 - accuracy: 0.8308 - val_loss: 0.5863 - val_accuracy: 0.7714\n",
      "Epoch 44/100\n",
      "30341/30341 [==============================] - 122s 4ms/step - loss: 0.3566 - accuracy: 0.8317 - val_loss: 0.6767 - val_accuracy: 0.7084\n"
     ]
    },
    {
     "data": {
      "text/plain": [
       "<tensorflow.python.keras.callbacks.History at 0x1a4941772e8>"
      ]
     },
     "execution_count": 27,
     "metadata": {},
     "output_type": "execute_result"
    }
   ],
   "source": [
    "stopper = callbacks.EarlyStopping(monitor='val_loss',patience=25)\n",
    "checkpoint = callbacks.ModelCheckpoint('checkpoint.h5', save_best_only=True)\n",
    "model.fit(\n",
    "    features,\n",
    "    labels,\n",
    "    batch_size=16, \n",
    "    epochs=100, \n",
    "    validation_split=0.2,\n",
    "    callbacks=[stopper, checkpoint],\n",
    "    shuffle=True\n",
    ")"
   ]
  },
  {
   "cell_type": "code",
   "execution_count": 28,
   "metadata": {
    "id": "ATpiXIQFUJRN"
   },
   "outputs": [
    {
     "name": "stdout",
     "output_type": "stream",
     "text": [
      "INFO:tensorflow:Assets written to: simpleLogistic\\assets\n"
     ]
    }
   ],
   "source": [
    "model.save('simpleLogistic')"
   ]
  },
  {
   "cell_type": "code",
   "execution_count": 29,
   "metadata": {},
   "outputs": [
    {
     "data": {
      "text/plain": [
       "array([[0.35217252],\n",
       "       [0.35217252],\n",
       "       [0.35217252],\n",
       "       [0.35217252],\n",
       "       [0.35217252],\n",
       "       [0.35217252],\n",
       "       [0.35217252],\n",
       "       [0.35217252],\n",
       "       [0.3204887 ],\n",
       "       [0.35217252]], dtype=float32)"
      ]
     },
     "execution_count": 29,
     "metadata": {},
     "output_type": "execute_result"
    }
   ],
   "source": [
    "model.predict(features[:10])"
   ]
  },
  {
   "cell_type": "code",
   "execution_count": 32,
   "metadata": {},
   "outputs": [
    {
     "data": {
      "text/plain": [
       "array([[3.4049049e-03, 2.4568057e+03],\n",
       "       [2.8182040e-03, 2.0334723e+03],\n",
       "       [3.1537088e-03, 2.2755554e+03],\n",
       "       [3.5602415e-03, 2.5688889e+03],\n",
       "       [3.3032717e-03, 2.3834722e+03],\n",
       "       [3.2031783e-03, 2.3112500e+03],\n",
       "       [2.5456422e-03, 1.8368057e+03],\n",
       "       [2.1627853e-03, 1.5605557e+03],\n",
       "       [2.6349563e-03, 1.9012500e+03],\n",
       "       [2.5456422e-03, 1.8368057e+03]], dtype=float32)"
      ]
     },
     "execution_count": 32,
     "metadata": {},
     "output_type": "execute_result"
    }
   ],
   "source": [
    "features[200:210]"
   ]
  }
 ],
 "metadata": {
  "colab": {
   "collapsed_sections": [],
   "name": "WindowRecognition.ipynb",
   "provenance": [],
   "toc_visible": true
  },
  "kernelspec": {
   "display_name": "Python 3",
   "language": "python",
   "name": "python3"
  },
  "language_info": {
   "codemirror_mode": {
    "name": "ipython",
    "version": 3
   },
   "file_extension": ".py",
   "mimetype": "text/x-python",
   "name": "python",
   "nbconvert_exporter": "python",
   "pygments_lexer": "ipython3",
   "version": "3.7.3"
  }
 },
 "nbformat": 4,
 "nbformat_minor": 1
}
